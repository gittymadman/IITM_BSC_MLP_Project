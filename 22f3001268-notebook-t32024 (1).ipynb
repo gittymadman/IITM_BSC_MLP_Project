{
 "cells": [
  {
   "cell_type": "code",
   "execution_count": 1,
   "id": "3c89d3c2",
   "metadata": {
    "execution": {
     "iopub.execute_input": "2024-11-30T12:34:44.377011Z",
     "iopub.status.busy": "2024-11-30T12:34:44.376603Z",
     "iopub.status.idle": "2024-11-30T12:34:47.026043Z",
     "shell.execute_reply": "2024-11-30T12:34:47.024775Z"
    },
    "id": "uhnhFKOMWR8r",
    "papermill": {
     "duration": 2.671227,
     "end_time": "2024-11-30T12:34:47.028452",
     "exception": false,
     "start_time": "2024-11-30T12:34:44.357225",
     "status": "completed"
    },
    "tags": []
   },
   "outputs": [],
   "source": [
    "from sklearn.linear_model import LinearRegression , SGDRegressor , LogisticRegression\n",
    "from sklearn.model_selection import cross_validate,cross_val_score,learning_curve,ShuffleSplit\n",
    "from sklearn.metrics import mean_squared_error\n",
    "from sklearn.pipeline import Pipeline\n",
    "import pandas as pd\n",
    "import numpy as np\n",
    "from pandas.plotting import scatter_matrix\n",
    "import matplotlib.pyplot as plt"
   ]
  },
  {
   "cell_type": "code",
   "execution_count": 2,
   "id": "727a7e69",
   "metadata": {
    "execution": {
     "iopub.execute_input": "2024-11-30T12:34:47.063882Z",
     "iopub.status.busy": "2024-11-30T12:34:47.062419Z",
     "iopub.status.idle": "2024-11-30T12:34:47.289342Z",
     "shell.execute_reply": "2024-11-30T12:34:47.288053Z"
    },
    "id": "ygsC7PA8WiSg",
    "papermill": {
     "duration": 0.246942,
     "end_time": "2024-11-30T12:34:47.292115",
     "exception": false,
     "start_time": "2024-11-30T12:34:47.045173",
     "status": "completed"
    },
    "tags": []
   },
   "outputs": [],
   "source": [
    "train = pd.read_csv('/kaggle/input/predict-the-success-of-bank-telemarketing/train.csv')"
   ]
  },
  {
   "cell_type": "code",
   "execution_count": 3,
   "id": "af95eceb",
   "metadata": {
    "execution": {
     "iopub.execute_input": "2024-11-30T12:34:47.325147Z",
     "iopub.status.busy": "2024-11-30T12:34:47.324773Z",
     "iopub.status.idle": "2024-11-30T12:34:47.365439Z",
     "shell.execute_reply": "2024-11-30T12:34:47.364299Z"
    },
    "id": "rgJsQeI6Wm2_",
    "papermill": {
     "duration": 0.060101,
     "end_time": "2024-11-30T12:34:47.367937",
     "exception": false,
     "start_time": "2024-11-30T12:34:47.307836",
     "status": "completed"
    },
    "tags": []
   },
   "outputs": [
    {
     "data": {
      "text/plain": [
       "last contact date    1013\n",
       "age                    78\n",
       "job                    11\n",
       "marital                 3\n",
       "education               3\n",
       "default                 2\n",
       "balance              9535\n",
       "housing                 2\n",
       "loan                    2\n",
       "contact                 2\n",
       "duration             3146\n",
       "campaign               63\n",
       "pdays                 865\n",
       "previous              276\n",
       "poutcome                3\n",
       "target                  2\n",
       "dtype: int64"
      ]
     },
     "execution_count": 3,
     "metadata": {},
     "output_type": "execute_result"
    }
   ],
   "source": [
    "train.nunique()"
   ]
  },
  {
   "cell_type": "code",
   "execution_count": 4,
   "id": "017733eb",
   "metadata": {
    "execution": {
     "iopub.execute_input": "2024-11-30T12:34:47.401333Z",
     "iopub.status.busy": "2024-11-30T12:34:47.400922Z",
     "iopub.status.idle": "2024-11-30T12:34:47.432080Z",
     "shell.execute_reply": "2024-11-30T12:34:47.430815Z"
    },
    "id": "GWwGQ4dxWsEi",
    "papermill": {
     "duration": 0.050875,
     "end_time": "2024-11-30T12:34:47.434520",
     "exception": false,
     "start_time": "2024-11-30T12:34:47.383645",
     "status": "completed"
    },
    "tags": []
   },
   "outputs": [
    {
     "data": {
      "text/plain": [
       "last contact date        0\n",
       "age                      0\n",
       "job                    229\n",
       "marital                  0\n",
       "education             1467\n",
       "default                  0\n",
       "balance                  0\n",
       "housing                  0\n",
       "loan                     0\n",
       "contact              10336\n",
       "duration                 0\n",
       "campaign                 0\n",
       "pdays                    0\n",
       "previous                 0\n",
       "poutcome             29451\n",
       "target                   0\n",
       "dtype: int64"
      ]
     },
     "execution_count": 4,
     "metadata": {},
     "output_type": "execute_result"
    }
   ],
   "source": [
    "train.isna().sum()"
   ]
  },
  {
   "cell_type": "code",
   "execution_count": 5,
   "id": "b29a2974",
   "metadata": {
    "execution": {
     "iopub.execute_input": "2024-11-30T12:34:47.468003Z",
     "iopub.status.busy": "2024-11-30T12:34:47.467570Z",
     "iopub.status.idle": "2024-11-30T12:34:47.474912Z",
     "shell.execute_reply": "2024-11-30T12:34:47.473520Z"
    },
    "id": "L_l33Ft7Wr_H",
    "papermill": {
     "duration": 0.02697,
     "end_time": "2024-11-30T12:34:47.477398",
     "exception": false,
     "start_time": "2024-11-30T12:34:47.450428",
     "status": "completed"
    },
    "tags": []
   },
   "outputs": [
    {
     "data": {
      "text/plain": [
       "(39211, 16)"
      ]
     },
     "execution_count": 5,
     "metadata": {},
     "output_type": "execute_result"
    }
   ],
   "source": [
    "train.shape"
   ]
  },
  {
   "cell_type": "code",
   "execution_count": 6,
   "id": "01ae927b",
   "metadata": {
    "execution": {
     "iopub.execute_input": "2024-11-30T12:34:47.511648Z",
     "iopub.status.busy": "2024-11-30T12:34:47.511235Z",
     "iopub.status.idle": "2024-11-30T12:34:47.526459Z",
     "shell.execute_reply": "2024-11-30T12:34:47.525104Z"
    },
    "id": "vaoKXWeaW3eI",
    "papermill": {
     "duration": 0.035533,
     "end_time": "2024-11-30T12:34:47.529083",
     "exception": false,
     "start_time": "2024-11-30T12:34:47.493550",
     "status": "completed"
    },
    "tags": []
   },
   "outputs": [],
   "source": [
    "x = train.iloc[:,:-1]\n",
    "y = train.iloc[:,-1]"
   ]
  },
  {
   "cell_type": "code",
   "execution_count": 7,
   "id": "1b993605",
   "metadata": {
    "execution": {
     "iopub.execute_input": "2024-11-30T12:34:47.564937Z",
     "iopub.status.busy": "2024-11-30T12:34:47.563336Z",
     "iopub.status.idle": "2024-11-30T12:34:47.569796Z",
     "shell.execute_reply": "2024-11-30T12:34:47.568761Z"
    },
    "id": "IsQMXbY2Wz-_",
    "papermill": {
     "duration": 0.026515,
     "end_time": "2024-11-30T12:34:47.572177",
     "exception": false,
     "start_time": "2024-11-30T12:34:47.545662",
     "status": "completed"
    },
    "tags": []
   },
   "outputs": [],
   "source": [
    "def remove_null(df):\n",
    "  for i in df.columns:\n",
    "    if df[i].isna().sum() > (0.5*df.shape[0]):\n",
    "      df.drop(columns=i,inplace=True)\n",
    "  return df"
   ]
  },
  {
   "cell_type": "code",
   "execution_count": 8,
   "id": "71c1b059",
   "metadata": {
    "execution": {
     "iopub.execute_input": "2024-11-30T12:34:47.606590Z",
     "iopub.status.busy": "2024-11-30T12:34:47.605407Z",
     "iopub.status.idle": "2024-11-30T12:34:47.639026Z",
     "shell.execute_reply": "2024-11-30T12:34:47.637833Z"
    },
    "id": "FlBtu18EYEC6",
    "papermill": {
     "duration": 0.053302,
     "end_time": "2024-11-30T12:34:47.641438",
     "exception": false,
     "start_time": "2024-11-30T12:34:47.588136",
     "status": "completed"
    },
    "tags": []
   },
   "outputs": [],
   "source": [
    "x = remove_null(x)"
   ]
  },
  {
   "cell_type": "code",
   "execution_count": 9,
   "id": "c882b938",
   "metadata": {
    "execution": {
     "iopub.execute_input": "2024-11-30T12:34:47.675562Z",
     "iopub.status.busy": "2024-11-30T12:34:47.675137Z",
     "iopub.status.idle": "2024-11-30T12:34:47.682181Z",
     "shell.execute_reply": "2024-11-30T12:34:47.681066Z"
    },
    "papermill": {
     "duration": 0.026471,
     "end_time": "2024-11-30T12:34:47.684414",
     "exception": false,
     "start_time": "2024-11-30T12:34:47.657943",
     "status": "completed"
    },
    "tags": []
   },
   "outputs": [
    {
     "data": {
      "text/plain": [
       "Index(['last contact date', 'age', 'job', 'marital', 'education', 'default',\n",
       "       'balance', 'housing', 'loan', 'contact', 'duration', 'campaign',\n",
       "       'pdays', 'previous'],\n",
       "      dtype='object')"
      ]
     },
     "execution_count": 9,
     "metadata": {},
     "output_type": "execute_result"
    }
   ],
   "source": [
    "x.columns"
   ]
  },
  {
   "cell_type": "code",
   "execution_count": 10,
   "id": "b3595eba",
   "metadata": {
    "execution": {
     "iopub.execute_input": "2024-11-30T12:34:47.717985Z",
     "iopub.status.busy": "2024-11-30T12:34:47.717554Z",
     "iopub.status.idle": "2024-11-30T12:34:47.960262Z",
     "shell.execute_reply": "2024-11-30T12:34:47.959124Z"
    },
    "id": "rhLU2MilYGpg",
    "papermill": {
     "duration": 0.262423,
     "end_time": "2024-11-30T12:34:47.962769",
     "exception": false,
     "start_time": "2024-11-30T12:34:47.700346",
     "status": "completed"
    },
    "tags": []
   },
   "outputs": [
    {
     "data": {
      "image/png": "[encoded data removed]",
      "text/plain": [
       "<Figure size 640x480 with 1 Axes>"
      ]
     },
     "metadata": {},
     "output_type": "display_data"
    }
   ],
   "source": [
    "l = x['job'].value_counts()\n",
    "val = [x for x in l] # Values for each type\n",
    "l_1 = x['job'].unique()\n",
    "val_1 = [x for x in l_1]\n",
    "val_1.pop(-1)\n",
    "# print(val_1)\n",
    "plt.bar(val_1,val)\n",
    "plt.xticks(rotation=90)\n",
    "plt.show()"
   ]
  },
  {
   "cell_type": "code",
   "execution_count": 11,
   "id": "08c08ced",
   "metadata": {
    "execution": {
     "iopub.execute_input": "2024-11-30T12:34:48.000868Z",
     "iopub.status.busy": "2024-11-30T12:34:47.999439Z",
     "iopub.status.idle": "2024-11-30T12:34:48.189276Z",
     "shell.execute_reply": "2024-11-30T12:34:48.188158Z"
    },
    "id": "etHyWWSVfLyx",
    "papermill": {
     "duration": 0.212015,
     "end_time": "2024-11-30T12:34:48.191395",
     "exception": false,
     "start_time": "2024-11-30T12:34:47.979380",
     "status": "completed"
    },
    "tags": []
   },
   "outputs": [
    {
     "name": "stdout",
     "output_type": "stream",
     "text": [
      "[19584, 11615, 6545]\n",
      "['secondary', 'tertiary', 'primary']\n"
     ]
    },
    {
     "data": {
      "image/png": "[encoded data removed]",
      "text/plain": [
       "<Figure size 640x480 with 1 Axes>"
      ]
     },
     "metadata": {},
     "output_type": "display_data"
    }
   ],
   "source": [
    "l = x['education'].value_counts()\n",
    "val = [x for x in l] # Values for each type\n",
    "l_1 = x['education'].unique()\n",
    "val_1 = [x for x in l_1]\n",
    "val_1.pop(-1)\n",
    "print(val)\n",
    "print(val_1)\n",
    "# print(val_1)\n",
    "plt.bar(val_1,val)\n",
    "plt.xticks(rotation=90)\n",
    "plt.show()"
   ]
  },
  {
   "cell_type": "code",
   "execution_count": 12,
   "id": "d397b692",
   "metadata": {
    "execution": {
     "iopub.execute_input": "2024-11-30T12:34:48.227182Z",
     "iopub.status.busy": "2024-11-30T12:34:48.226807Z",
     "iopub.status.idle": "2024-11-30T12:34:48.400362Z",
     "shell.execute_reply": "2024-11-30T12:34:48.399277Z"
    },
    "id": "eBiGQQUVYOQF",
    "papermill": {
     "duration": 0.193801,
     "end_time": "2024-11-30T12:34:48.402595",
     "exception": false,
     "start_time": "2024-11-30T12:34:48.208794",
     "status": "completed"
    },
    "tags": []
   },
   "outputs": [
    {
     "name": "stdout",
     "output_type": "stream",
     "text": [
      "[25030, 3845]\n",
      "['cellular', 'telephone']\n"
     ]
    },
    {
     "data": {
      "image/png": "[encoded data removed]",
      "text/plain": [
       "<Figure size 640x480 with 1 Axes>"
      ]
     },
     "metadata": {},
     "output_type": "display_data"
    }
   ],
   "source": [
    "l = x['contact'].value_counts()\n",
    "val = [x for x in l] # Values for each type\n",
    "l_1 = x['contact'].unique()\n",
    "val_1 = [x for x in l_1]\n",
    "val_1.pop(-1)\n",
    "print(val)\n",
    "print(val_1)\n",
    "# print(val_1)\n",
    "plt.bar(val_1,val)\n",
    "plt.xticks(rotation=90)\n",
    "plt.show()"
   ]
  },
  {
   "cell_type": "code",
   "execution_count": 13,
   "id": "6e30016f",
   "metadata": {
    "execution": {
     "iopub.execute_input": "2024-11-30T12:34:48.438120Z",
     "iopub.status.busy": "2024-11-30T12:34:48.437720Z",
     "iopub.status.idle": "2024-11-30T12:34:48.444561Z",
     "shell.execute_reply": "2024-11-30T12:34:48.443397Z"
    },
    "id": "P1mTjeeU1gYY",
    "papermill": {
     "duration": 0.027708,
     "end_time": "2024-11-30T12:34:48.447160",
     "exception": false,
     "start_time": "2024-11-30T12:34:48.419452",
     "status": "completed"
    },
    "tags": []
   },
   "outputs": [],
   "source": [
    "def replace_nulls(df):\n",
    "  for i in df.columns:\n",
    "    if df[i].isna().sum() > 0:\n",
    "      val_count = df[i].value_counts(normalize=True)\n",
    "      null_index = df[df[i].isna()].index\n",
    "      replace_values = np.random.choice(val_count.index,size=len(null_index),p=val_count.values)\n",
    "      df.loc[null_index,i] = replace_values\n",
    "  return df"
   ]
  },
  {
   "cell_type": "code",
   "execution_count": 14,
   "id": "561460be",
   "metadata": {
    "execution": {
     "iopub.execute_input": "2024-11-30T12:34:48.484075Z",
     "iopub.status.busy": "2024-11-30T12:34:48.483638Z",
     "iopub.status.idle": "2024-11-30T12:34:48.534062Z",
     "shell.execute_reply": "2024-11-30T12:34:48.532800Z"
    },
    "id": "J26KGKev3OAC",
    "papermill": {
     "duration": 0.071618,
     "end_time": "2024-11-30T12:34:48.536647",
     "exception": false,
     "start_time": "2024-11-30T12:34:48.465029",
     "status": "completed"
    },
    "tags": []
   },
   "outputs": [],
   "source": [
    "x = replace_nulls(x)"
   ]
  },
  {
   "cell_type": "code",
   "execution_count": 15,
   "id": "923bbbb0",
   "metadata": {
    "execution": {
     "iopub.execute_input": "2024-11-30T12:34:48.573412Z",
     "iopub.status.busy": "2024-11-30T12:34:48.573024Z",
     "iopub.status.idle": "2024-11-30T12:34:48.579133Z",
     "shell.execute_reply": "2024-11-30T12:34:48.578008Z"
    },
    "id": "iHGh7zlk4j7M",
    "papermill": {
     "duration": 0.027738,
     "end_time": "2024-11-30T12:34:48.581503",
     "exception": false,
     "start_time": "2024-11-30T12:34:48.553765",
     "status": "completed"
    },
    "tags": []
   },
   "outputs": [],
   "source": [
    "def convert_date(df):\n",
    "  df['last contact date'] = pd.to_datetime(df['last contact date'],format='%Y-%m-%d')\n",
    "  df['day'] = df['last contact date'].dt.day\n",
    "  df['month'] = df['last contact date'].dt.month\n",
    "  df['year'] = df['last contact date'].dt.year\n",
    "  df.drop(columns='last contact date',inplace=True)\n",
    "  return df"
   ]
  },
  {
   "cell_type": "code",
   "execution_count": 16,
   "id": "33ec5bfb",
   "metadata": {
    "execution": {
     "iopub.execute_input": "2024-11-30T12:34:48.617318Z",
     "iopub.status.busy": "2024-11-30T12:34:48.616941Z",
     "iopub.status.idle": "2024-11-30T12:34:48.647503Z",
     "shell.execute_reply": "2024-11-30T12:34:48.646502Z"
    },
    "id": "CAzUlrVw45qg",
    "papermill": {
     "duration": 0.051313,
     "end_time": "2024-11-30T12:34:48.649985",
     "exception": false,
     "start_time": "2024-11-30T12:34:48.598672",
     "status": "completed"
    },
    "tags": []
   },
   "outputs": [],
   "source": [
    "x = convert_date(x)"
   ]
  },
  {
   "cell_type": "code",
   "execution_count": 17,
   "id": "9d1f0eef",
   "metadata": {
    "execution": {
     "iopub.execute_input": "2024-11-30T12:34:48.686506Z",
     "iopub.status.busy": "2024-11-30T12:34:48.686090Z",
     "iopub.status.idle": "2024-11-30T12:34:48.706368Z",
     "shell.execute_reply": "2024-11-30T12:34:48.705175Z"
    },
    "id": "LhG6Z9Q94XUR",
    "papermill": {
     "duration": 0.04091,
     "end_time": "2024-11-30T12:34:48.708820",
     "exception": false,
     "start_time": "2024-11-30T12:34:48.667910",
     "status": "completed"
    },
    "tags": []
   },
   "outputs": [
    {
     "data": {
      "text/html": [
       "<div>\n",
       "<style scoped>\n",
       "    .dataframe tbody tr th:only-of-type {\n",
       "        vertical-align: middle;\n",
       "    }\n",
       "\n",
       "    .dataframe tbody tr th {\n",
       "        vertical-align: top;\n",
       "    }\n",
       "\n",
       "    .dataframe thead th {\n",
       "        text-align: right;\n",
       "    }\n",
       "</style>\n",
       "<table border=\"1\" class=\"dataframe\">\n",
       "  <thead>\n",
       "    <tr style=\"text-align: right;\">\n",
       "      <th></th>\n",
       "      <th>age</th>\n",
       "      <th>job</th>\n",
       "      <th>marital</th>\n",
       "      <th>education</th>\n",
       "      <th>default</th>\n",
       "      <th>balance</th>\n",
       "      <th>housing</th>\n",
       "      <th>loan</th>\n",
       "      <th>contact</th>\n",
       "      <th>duration</th>\n",
       "      <th>campaign</th>\n",
       "      <th>pdays</th>\n",
       "      <th>previous</th>\n",
       "      <th>day</th>\n",
       "      <th>month</th>\n",
       "      <th>year</th>\n",
       "    </tr>\n",
       "  </thead>\n",
       "  <tbody>\n",
       "    <tr>\n",
       "      <th>0</th>\n",
       "      <td>26</td>\n",
       "      <td>blue-collar</td>\n",
       "      <td>married</td>\n",
       "      <td>secondary</td>\n",
       "      <td>no</td>\n",
       "      <td>647</td>\n",
       "      <td>yes</td>\n",
       "      <td>no</td>\n",
       "      <td>cellular</td>\n",
       "      <td>357</td>\n",
       "      <td>2</td>\n",
       "      <td>331</td>\n",
       "      <td>1</td>\n",
       "      <td>17</td>\n",
       "      <td>4</td>\n",
       "      <td>2009</td>\n",
       "    </tr>\n",
       "    <tr>\n",
       "      <th>1</th>\n",
       "      <td>52</td>\n",
       "      <td>technician</td>\n",
       "      <td>married</td>\n",
       "      <td>secondary</td>\n",
       "      <td>no</td>\n",
       "      <td>553</td>\n",
       "      <td>yes</td>\n",
       "      <td>no</td>\n",
       "      <td>telephone</td>\n",
       "      <td>160</td>\n",
       "      <td>1</td>\n",
       "      <td>-1</td>\n",
       "      <td>0</td>\n",
       "      <td>11</td>\n",
       "      <td>10</td>\n",
       "      <td>2009</td>\n",
       "    </tr>\n",
       "    <tr>\n",
       "      <th>2</th>\n",
       "      <td>44</td>\n",
       "      <td>blue-collar</td>\n",
       "      <td>married</td>\n",
       "      <td>secondary</td>\n",
       "      <td>no</td>\n",
       "      <td>1397</td>\n",
       "      <td>no</td>\n",
       "      <td>no</td>\n",
       "      <td>cellular</td>\n",
       "      <td>326</td>\n",
       "      <td>1</td>\n",
       "      <td>-1</td>\n",
       "      <td>0</td>\n",
       "      <td>20</td>\n",
       "      <td>11</td>\n",
       "      <td>2010</td>\n",
       "    </tr>\n",
       "    <tr>\n",
       "      <th>3</th>\n",
       "      <td>33</td>\n",
       "      <td>admin.</td>\n",
       "      <td>married</td>\n",
       "      <td>secondary</td>\n",
       "      <td>no</td>\n",
       "      <td>394</td>\n",
       "      <td>yes</td>\n",
       "      <td>no</td>\n",
       "      <td>telephone</td>\n",
       "      <td>104</td>\n",
       "      <td>3</td>\n",
       "      <td>-1</td>\n",
       "      <td>0</td>\n",
       "      <td>1</td>\n",
       "      <td>9</td>\n",
       "      <td>2009</td>\n",
       "    </tr>\n",
       "    <tr>\n",
       "      <th>4</th>\n",
       "      <td>31</td>\n",
       "      <td>entrepreneur</td>\n",
       "      <td>single</td>\n",
       "      <td>tertiary</td>\n",
       "      <td>no</td>\n",
       "      <td>137</td>\n",
       "      <td>no</td>\n",
       "      <td>no</td>\n",
       "      <td>cellular</td>\n",
       "      <td>445</td>\n",
       "      <td>2</td>\n",
       "      <td>-1</td>\n",
       "      <td>0</td>\n",
       "      <td>29</td>\n",
       "      <td>1</td>\n",
       "      <td>2008</td>\n",
       "    </tr>\n",
       "  </tbody>\n",
       "</table>\n",
       "</div>"
      ],
      "text/plain": [
       "   age           job  marital  education default  balance housing loan  \\\n",
       "0   26   blue-collar  married  secondary      no      647     yes   no   \n",
       "1   52    technician  married  secondary      no      553     yes   no   \n",
       "2   44   blue-collar  married  secondary      no     1397      no   no   \n",
       "3   33        admin.  married  secondary      no      394     yes   no   \n",
       "4   31  entrepreneur   single   tertiary      no      137      no   no   \n",
       "\n",
       "     contact  duration  campaign  pdays  previous  day  month  year  \n",
       "0   cellular       357         2    331         1   17      4  2009  \n",
       "1  telephone       160         1     -1         0   11     10  2009  \n",
       "2   cellular       326         1     -1         0   20     11  2010  \n",
       "3  telephone       104         3     -1         0    1      9  2009  \n",
       "4   cellular       445         2     -1         0   29      1  2008  "
      ]
     },
     "execution_count": 17,
     "metadata": {},
     "output_type": "execute_result"
    }
   ],
   "source": [
    "x.head()"
   ]
  },
  {
   "cell_type": "code",
   "execution_count": 18,
   "id": "9162d293",
   "metadata": {
    "execution": {
     "iopub.execute_input": "2024-11-30T12:34:48.746545Z",
     "iopub.status.busy": "2024-11-30T12:34:48.745503Z",
     "iopub.status.idle": "2024-11-30T12:34:48.750988Z",
     "shell.execute_reply": "2024-11-30T12:34:48.749873Z"
    },
    "id": "j9IETs2I5cJE",
    "papermill": {
     "duration": 0.026323,
     "end_time": "2024-11-30T12:34:48.753188",
     "exception": false,
     "start_time": "2024-11-30T12:34:48.726865",
     "status": "completed"
    },
    "tags": []
   },
   "outputs": [],
   "source": [
    "education_order = [['primary', 'secondary', 'tertiary']]"
   ]
  },
  {
   "cell_type": "code",
   "execution_count": 19,
   "id": "7b14a61a",
   "metadata": {
    "execution": {
     "iopub.execute_input": "2024-11-30T12:34:48.790098Z",
     "iopub.status.busy": "2024-11-30T12:34:48.789489Z",
     "iopub.status.idle": "2024-11-30T12:34:48.795125Z",
     "shell.execute_reply": "2024-11-30T12:34:48.793891Z"
    },
    "id": "b1PYwbNQ5UNs",
    "papermill": {
     "duration": 0.027426,
     "end_time": "2024-11-30T12:34:48.798013",
     "exception": false,
     "start_time": "2024-11-30T12:34:48.770587",
     "status": "completed"
    },
    "tags": []
   },
   "outputs": [],
   "source": [
    "from sklearn.preprocessing import OrdinalEncoder,OneHotEncoder,LabelEncoder\n",
    "one_hot = OneHotEncoder(handle_unknown='ignore',sparse_output=False,drop='first')\n",
    "ordinal = OrdinalEncoder(categories=education_order)"
   ]
  },
  {
   "cell_type": "code",
   "execution_count": 20,
   "id": "36ddd9b8",
   "metadata": {
    "execution": {
     "iopub.execute_input": "2024-11-30T12:34:48.834585Z",
     "iopub.status.busy": "2024-11-30T12:34:48.834141Z",
     "iopub.status.idle": "2024-11-30T12:34:48.839129Z",
     "shell.execute_reply": "2024-11-30T12:34:48.837989Z"
    },
    "id": "WeUb-JSt7lF2",
    "papermill": {
     "duration": 0.026327,
     "end_time": "2024-11-30T12:34:48.841768",
     "exception": false,
     "start_time": "2024-11-30T12:34:48.815441",
     "status": "completed"
    },
    "tags": []
   },
   "outputs": [],
   "source": [
    "col_to_label_encode = ['job','marital','default','housing','loan','contact']"
   ]
  },
  {
   "cell_type": "code",
   "execution_count": 21,
   "id": "6db34940",
   "metadata": {
    "execution": {
     "iopub.execute_input": "2024-11-30T12:34:48.879640Z",
     "iopub.status.busy": "2024-11-30T12:34:48.878722Z",
     "iopub.status.idle": "2024-11-30T12:34:48.901478Z",
     "shell.execute_reply": "2024-11-30T12:34:48.900290Z"
    },
    "id": "UaPmDjOX_lOU",
    "papermill": {
     "duration": 0.044585,
     "end_time": "2024-11-30T12:34:48.903868",
     "exception": false,
     "start_time": "2024-11-30T12:34:48.859283",
     "status": "completed"
    },
    "tags": []
   },
   "outputs": [
    {
     "data": {
      "text/plain": [
       "age          0\n",
       "job          0\n",
       "marital      0\n",
       "education    0\n",
       "default      0\n",
       "balance      0\n",
       "housing      0\n",
       "loan         0\n",
       "contact      0\n",
       "duration     0\n",
       "campaign     0\n",
       "pdays        0\n",
       "previous     0\n",
       "day          0\n",
       "month        0\n",
       "year         0\n",
       "dtype: int64"
      ]
     },
     "execution_count": 21,
     "metadata": {},
     "output_type": "execute_result"
    }
   ],
   "source": [
    "x.isna().sum()"
   ]
  },
  {
   "cell_type": "code",
   "execution_count": 22,
   "id": "00c81176",
   "metadata": {
    "execution": {
     "iopub.execute_input": "2024-11-30T12:34:48.940743Z",
     "iopub.status.busy": "2024-11-30T12:34:48.940329Z",
     "iopub.status.idle": "2024-11-30T12:34:49.112171Z",
     "shell.execute_reply": "2024-11-30T12:34:49.110681Z"
    },
    "id": "hqw4A8A65Vpl",
    "papermill": {
     "duration": 0.193775,
     "end_time": "2024-11-30T12:34:49.115228",
     "exception": false,
     "start_time": "2024-11-30T12:34:48.921453",
     "status": "completed"
    },
    "tags": []
   },
   "outputs": [],
   "source": [
    "for i in col_to_label_encode:\n",
    "  col_encoded = one_hot.fit_transform(x[[i]])\n",
    "  col_encoded_df = pd.DataFrame(col_encoded,columns=one_hot.get_feature_names_out([i]))\n",
    "  x = pd.concat([x,col_encoded_df],axis=1)\n",
    "x=x.drop(columns=col_to_label_encode)\n",
    "x['education'] = ordinal.fit_transform(x[['education']]) # [['education']] ensures that column is a 2D array."
   ]
  },
  {
   "cell_type": "code",
   "execution_count": 23,
   "id": "dddc12b5",
   "metadata": {
    "execution": {
     "iopub.execute_input": "2024-11-30T12:34:49.153000Z",
     "iopub.status.busy": "2024-11-30T12:34:49.152613Z",
     "iopub.status.idle": "2024-11-30T12:34:49.159497Z",
     "shell.execute_reply": "2024-11-30T12:34:49.158222Z"
    },
    "id": "QoDabLPxFtuf",
    "papermill": {
     "duration": 0.028663,
     "end_time": "2024-11-30T12:34:49.162171",
     "exception": false,
     "start_time": "2024-11-30T12:34:49.133508",
     "status": "completed"
    },
    "tags": []
   },
   "outputs": [],
   "source": [
    "from sklearn.linear_model import LogisticRegression\n",
    "from sklearn.model_selection import train_test_split"
   ]
  },
  {
   "cell_type": "code",
   "execution_count": 24,
   "id": "8d6bfe6c",
   "metadata": {
    "execution": {
     "iopub.execute_input": "2024-11-30T12:34:49.200431Z",
     "iopub.status.busy": "2024-11-30T12:34:49.200028Z",
     "iopub.status.idle": "2024-11-30T12:34:49.216261Z",
     "shell.execute_reply": "2024-11-30T12:34:49.215270Z"
    },
    "id": "mnCfsKmEGPtg",
    "papermill": {
     "duration": 0.037877,
     "end_time": "2024-11-30T12:34:49.218996",
     "exception": false,
     "start_time": "2024-11-30T12:34:49.181119",
     "status": "completed"
    },
    "tags": []
   },
   "outputs": [],
   "source": [
    "x_train,x_test,y_train,y_test = train_test_split(x,y,test_size=0.2,random_state=42)"
   ]
  },
  {
   "cell_type": "code",
   "execution_count": 25,
   "id": "dca5c4e5",
   "metadata": {
    "execution": {
     "iopub.execute_input": "2024-11-30T12:34:49.256586Z",
     "iopub.status.busy": "2024-11-30T12:34:49.256154Z",
     "iopub.status.idle": "2024-11-30T12:34:50.101551Z",
     "shell.execute_reply": "2024-11-30T12:34:50.100489Z"
    },
    "id": "PgEuVPyaLpL_",
    "papermill": {
     "duration": 0.868137,
     "end_time": "2024-11-30T12:34:50.105546",
     "exception": false,
     "start_time": "2024-11-30T12:34:49.237409",
     "status": "completed"
    },
    "tags": []
   },
   "outputs": [
    {
     "name": "stdout",
     "output_type": "stream",
     "text": [
      "['no' 'no' 'no' ... 'no' 'no' 'no']\n"
     ]
    }
   ],
   "source": [
    "from sklearn.preprocessing import StandardScaler\n",
    "from sklearn.decomposition import PCA\n",
    "lin_reg_pipeline = Pipeline([(\"feature_scaling\",StandardScaler()),\n",
    "                             ('pca',PCA(n_components=15)),\n",
    "                           (\"lin_reg\",LogisticRegression())])\n",
    "\n",
    "lin_reg_pipeline.fit(x_train,y_train)\n",
    "predict = lin_reg_pipeline.predict(x_test)\n",
    "print(predict)"
   ]
  },
  {
   "cell_type": "code",
   "execution_count": 26,
   "id": "3a40c9d5",
   "metadata": {
    "execution": {
     "iopub.execute_input": "2024-11-30T12:34:50.207991Z",
     "iopub.status.busy": "2024-11-30T12:34:50.206068Z",
     "iopub.status.idle": "2024-11-30T12:34:50.220495Z",
     "shell.execute_reply": "2024-11-30T12:34:50.218551Z"
    },
    "id": "SFguuUQWL-oZ",
    "papermill": {
     "duration": 0.068885,
     "end_time": "2024-11-30T12:34:50.223649",
     "exception": false,
     "start_time": "2024-11-30T12:34:50.154764",
     "status": "completed"
    },
    "tags": []
   },
   "outputs": [
    {
     "name": "stdout",
     "output_type": "stream",
     "text": [
      "[-1.96987026]\n",
      "[[ 2.94582048e-01 -1.65358065e-01 -2.13273752e-01  2.07658416e-01\n",
      "  -1.43528987e-01 -5.82149036e-03  1.02974272e-01  4.21055860e-02\n",
      "  -3.71127120e-05 -3.73167417e-02  2.71970145e-02  6.31887851e-02\n",
      "  -2.75209274e-02 -1.27439171e-01 -1.43674437e-01]]\n"
     ]
    }
   ],
   "source": [
    "\n",
    "print(lin_reg_pipeline[-1].intercept_)\n",
    "print(lin_reg_pipeline[-1].coef_)"
   ]
  },
  {
   "cell_type": "code",
   "execution_count": 27,
   "id": "b219b52f",
   "metadata": {
    "execution": {
     "iopub.execute_input": "2024-11-30T12:34:50.275325Z",
     "iopub.status.busy": "2024-11-30T12:34:50.274806Z",
     "iopub.status.idle": "2024-11-30T12:34:50.280752Z",
     "shell.execute_reply": "2024-11-30T12:34:50.279183Z"
    },
    "id": "ubqczFlrNNU8",
    "papermill": {
     "duration": 0.03695,
     "end_time": "2024-11-30T12:34:50.283956",
     "exception": false,
     "start_time": "2024-11-30T12:34:50.247006",
     "status": "completed"
    },
    "tags": []
   },
   "outputs": [],
   "source": [
    "y_test_new = y_test.to_numpy()"
   ]
  },
  {
   "cell_type": "code",
   "execution_count": 28,
   "id": "72401261",
   "metadata": {
    "execution": {
     "iopub.execute_input": "2024-11-30T12:34:50.325384Z",
     "iopub.status.busy": "2024-11-30T12:34:50.324416Z",
     "iopub.status.idle": "2024-11-30T12:34:50.331373Z",
     "shell.execute_reply": "2024-11-30T12:34:50.330283Z"
    },
    "id": "x5hxiLWYNYZ4",
    "papermill": {
     "duration": 0.030846,
     "end_time": "2024-11-30T12:34:50.333882",
     "exception": false,
     "start_time": "2024-11-30T12:34:50.303036",
     "status": "completed"
    },
    "tags": []
   },
   "outputs": [
    {
     "data": {
      "text/plain": [
       "array(['no', 'no', 'no', ..., 'no', 'no', 'no'], dtype=object)"
      ]
     },
     "execution_count": 28,
     "metadata": {},
     "output_type": "execute_result"
    }
   ],
   "source": [
    "predict"
   ]
  },
  {
   "cell_type": "code",
   "execution_count": 29,
   "id": "800eaab6",
   "metadata": {
    "execution": {
     "iopub.execute_input": "2024-11-30T12:34:50.373153Z",
     "iopub.status.busy": "2024-11-30T12:34:50.372761Z",
     "iopub.status.idle": "2024-11-30T12:34:50.589459Z",
     "shell.execute_reply": "2024-11-30T12:34:50.588209Z"
    },
    "id": "GVliOvZ_MXY9",
    "papermill": {
     "duration": 0.238969,
     "end_time": "2024-11-30T12:34:50.592181",
     "exception": false,
     "start_time": "2024-11-30T12:34:50.353212",
     "status": "completed"
    },
    "tags": []
   },
   "outputs": [
    {
     "name": "stdout",
     "output_type": "stream",
     "text": [
      "0.8481448425347443\n",
      "0.5108359133126935\n",
      "0.13772954924874792\n"
     ]
    },
    {
     "data": {
      "text/plain": [
       "array([[6487,  158],\n",
       "       [1033,  165]])"
      ]
     },
     "execution_count": 29,
     "metadata": {},
     "output_type": "execute_result"
    }
   ],
   "source": [
    "from sklearn.metrics import accuracy_score,precision_score,recall_score\n",
    "print(accuracy_score(y_test,predict))\n",
    "print(precision_score(y_test,predict,pos_label='yes'))\n",
    "print(recall_score(y_test,predict,pos_label='yes'))\n",
    "from sklearn.metrics import confusion_matrix\n",
    "confusion_matrix(y_test,predict)"
   ]
  },
  {
   "cell_type": "code",
   "execution_count": 30,
   "id": "25ca052d",
   "metadata": {
    "execution": {
     "iopub.execute_input": "2024-11-30T12:34:50.631412Z",
     "iopub.status.busy": "2024-11-30T12:34:50.630412Z",
     "iopub.status.idle": "2024-11-30T12:34:50.905452Z",
     "shell.execute_reply": "2024-11-30T12:34:50.904274Z"
    },
    "id": "PTAJHDv97HJM",
    "papermill": {
     "duration": 0.297368,
     "end_time": "2024-11-30T12:34:50.907765",
     "exception": false,
     "start_time": "2024-11-30T12:34:50.610397",
     "status": "completed"
    },
    "tags": []
   },
   "outputs": [
    {
     "data": {
      "text/plain": [
       "<sklearn.metrics._plot.confusion_matrix.ConfusionMatrixDisplay at 0x7b6f1502ec50>"
      ]
     },
     "execution_count": 30,
     "metadata": {},
     "output_type": "execute_result"
    },
    {
     "data": {
      "image/png": "[encoded data removed]",
      "text/plain": [
       "<Figure size 640x480 with 2 Axes>"
      ]
     },
     "metadata": {},
     "output_type": "display_data"
    }
   ],
   "source": [
    "from sklearn.metrics import ConfusionMatrixDisplay\n",
    "ConfusionMatrixDisplay.from_predictions(y_test, predict)"
   ]
  },
  {
   "cell_type": "code",
   "execution_count": 31,
   "id": "fda67bfe",
   "metadata": {
    "execution": {
     "iopub.execute_input": "2024-11-30T12:34:50.946612Z",
     "iopub.status.busy": "2024-11-30T12:34:50.946178Z",
     "iopub.status.idle": "2024-11-30T12:34:51.155711Z",
     "shell.execute_reply": "2024-11-30T12:34:51.154560Z"
    },
    "id": "QRIOdxZkL57W",
    "papermill": {
     "duration": 0.231792,
     "end_time": "2024-11-30T12:34:51.158120",
     "exception": false,
     "start_time": "2024-11-30T12:34:50.926328",
     "status": "completed"
    },
    "tags": []
   },
   "outputs": [
    {
     "name": "stdout",
     "output_type": "stream",
     "text": [
      "0.8481448425347443\n",
      "0.8524929864830401\n"
     ]
    }
   ],
   "source": [
    "test_score = lin_reg_pipeline.score(x_test,y_test)\n",
    "print(test_score)\n",
    "train_score = lin_reg_pipeline.score(x_train,y_train) # Provides coeff of determination R^2 (explainability of variance)\n",
    "print(train_score)"
   ]
  },
  {
   "cell_type": "code",
   "execution_count": 32,
   "id": "abb434d1",
   "metadata": {
    "execution": {
     "iopub.execute_input": "2024-11-30T12:34:51.196574Z",
     "iopub.status.busy": "2024-11-30T12:34:51.196164Z",
     "iopub.status.idle": "2024-11-30T12:34:51.201896Z",
     "shell.execute_reply": "2024-11-30T12:34:51.200877Z"
    },
    "id": "oB8z9U7fVaPb",
    "papermill": {
     "duration": 0.027576,
     "end_time": "2024-11-30T12:34:51.204235",
     "exception": false,
     "start_time": "2024-11-30T12:34:51.176659",
     "status": "completed"
    },
    "tags": []
   },
   "outputs": [],
   "source": [
    "from sklearn.linear_model import SGDClassifier\n",
    "\n",
    "sgd_teg_pipeline = Pipeline([(\"Feature_scaling\",StandardScaler()),\n",
    "                             ('pca',PCA(n_components=15)),\n",
    "                             (\"sgd\",SGDClassifier(loss='hinge',penalty='l2',max_iter=5,random_state=42))])"
   ]
  },
  {
   "cell_type": "code",
   "execution_count": 33,
   "id": "c68061a5",
   "metadata": {
    "execution": {
     "iopub.execute_input": "2024-11-30T12:34:51.243037Z",
     "iopub.status.busy": "2024-11-30T12:34:51.242634Z",
     "iopub.status.idle": "2024-11-30T12:34:51.920062Z",
     "shell.execute_reply": "2024-11-30T12:34:51.918816Z"
    },
    "id": "J_IpQxYQ2dVl",
    "papermill": {
     "duration": 0.700102,
     "end_time": "2024-11-30T12:34:51.923370",
     "exception": false,
     "start_time": "2024-11-30T12:34:51.223268",
     "status": "completed"
    },
    "tags": []
   },
   "outputs": [
    {
     "name": "stderr",
     "output_type": "stream",
     "text": [
      "/opt/conda/lib/python3.10/site-packages/sklearn/linear_model/_stochastic_gradient.py:702: ConvergenceWarning: Maximum number of iteration reached before convergence. Consider increasing max_iter to improve the fit.\n",
      "  warnings.warn(\n"
     ]
    }
   ],
   "source": [
    "sgd_teg_pipeline.fit(x_train,y_train)\n",
    "predict = sgd_teg_pipeline.predict(x_test)"
   ]
  },
  {
   "cell_type": "code",
   "execution_count": 34,
   "id": "28ae64ce",
   "metadata": {
    "execution": {
     "iopub.execute_input": "2024-11-30T12:34:52.006123Z",
     "iopub.status.busy": "2024-11-30T12:34:51.996741Z",
     "iopub.status.idle": "2024-11-30T12:34:52.013040Z",
     "shell.execute_reply": "2024-11-30T12:34:52.011270Z"
    },
    "id": "ZEHj_MSO21T1",
    "papermill": {
     "duration": 0.057366,
     "end_time": "2024-11-30T12:34:52.016569",
     "exception": false,
     "start_time": "2024-11-30T12:34:51.959203",
     "status": "completed"
    },
    "tags": []
   },
   "outputs": [
    {
     "name": "stdout",
     "output_type": "stream",
     "text": [
      "['no' 'no' 'no' ... 'no' 'no' 'yes']\n"
     ]
    }
   ],
   "source": [
    "print(predict)"
   ]
  },
  {
   "cell_type": "code",
   "execution_count": 35,
   "id": "736eeed6",
   "metadata": {
    "execution": {
     "iopub.execute_input": "2024-11-30T12:34:52.065766Z",
     "iopub.status.busy": "2024-11-30T12:34:52.065364Z",
     "iopub.status.idle": "2024-11-30T12:34:52.370956Z",
     "shell.execute_reply": "2024-11-30T12:34:52.369783Z"
    },
    "id": "kG4toym24-8w",
    "papermill": {
     "duration": 0.329003,
     "end_time": "2024-11-30T12:34:52.373353",
     "exception": false,
     "start_time": "2024-11-30T12:34:52.044350",
     "status": "completed"
    },
    "tags": []
   },
   "outputs": [
    {
     "data": {
      "text/plain": [
       "<sklearn.metrics._plot.confusion_matrix.ConfusionMatrixDisplay at 0x7b6f1511bf10>"
      ]
     },
     "execution_count": 35,
     "metadata": {},
     "output_type": "execute_result"
    },
    {
     "data": {
      "image/png": "[encoded data removed]",
      "text/plain": [
       "<Figure size 640x480 with 2 Axes>"
      ]
     },
     "metadata": {},
     "output_type": "display_data"
    }
   ],
   "source": [
    "\n",
    "ConfusionMatrixDisplay.from_predictions(y_test, predict)"
   ]
  },
  {
   "cell_type": "code",
   "execution_count": 36,
   "id": "1ad98252",
   "metadata": {
    "execution": {
     "iopub.execute_input": "2024-11-30T12:34:52.413459Z",
     "iopub.status.busy": "2024-11-30T12:34:52.413051Z",
     "iopub.status.idle": "2024-11-30T12:34:52.583998Z",
     "shell.execute_reply": "2024-11-30T12:34:52.582285Z"
    },
    "id": "djtbuxZc26rZ",
    "papermill": {
     "duration": 0.193626,
     "end_time": "2024-11-30T12:34:52.586138",
     "exception": false,
     "start_time": "2024-11-30T12:34:52.392512",
     "status": "completed"
    },
    "tags": []
   },
   "outputs": [
    {
     "name": "stdout",
     "output_type": "stream",
     "text": [
      "0.839219686344511\n",
      "0.4553191489361702\n",
      "0.2679465776293823\n"
     ]
    },
    {
     "data": {
      "text/plain": [
       "array([[6261,  384],\n",
       "       [ 877,  321]])"
      ]
     },
     "execution_count": 36,
     "metadata": {},
     "output_type": "execute_result"
    }
   ],
   "source": [
    "print(accuracy_score(y_test,predict))\n",
    "print(precision_score(y_test,predict,pos_label='yes'))\n",
    "print(recall_score(y_test,predict,pos_label='yes'))\n",
    "confusion_matrix(y_test,predict)"
   ]
  },
  {
   "cell_type": "code",
   "execution_count": 37,
   "id": "9e8ecad0",
   "metadata": {
    "execution": {
     "iopub.execute_input": "2024-11-30T12:34:52.627092Z",
     "iopub.status.busy": "2024-11-30T12:34:52.626681Z",
     "iopub.status.idle": "2024-11-30T12:34:52.698805Z",
     "shell.execute_reply": "2024-11-30T12:34:52.697656Z"
    },
    "id": "yDSo_MKh9LQ3",
    "papermill": {
     "duration": 0.096338,
     "end_time": "2024-11-30T12:34:52.701848",
     "exception": false,
     "start_time": "2024-11-30T12:34:52.605510",
     "status": "completed"
    },
    "tags": []
   },
   "outputs": [
    {
     "data": {
      "text/html": [
       "<style>#sk-container-id-1 {color: black;background-color: white;}#sk-container-id-1 pre{padding: 0;}#sk-container-id-1 div.sk-toggleable {background-color: white;}#sk-container-id-1 label.sk-toggleable__label {cursor: pointer;display: block;width: 100%;margin-bottom: 0;padding: 0.3em;box-sizing: border-box;text-align: center;}#sk-container-id-1 label.sk-toggleable__label-arrow:before {content: \"▸\";float: left;margin-right: 0.25em;color: #696969;}#sk-container-id-1 label.sk-toggleable__label-arrow:hover:before {color: black;}#sk-container-id-1 div.sk-estimator:hover label.sk-toggleable__label-arrow:before {color: black;}#sk-container-id-1 div.sk-toggleable__content {max-height: 0;max-width: 0;overflow: hidden;text-align: left;background-color: #f0f8ff;}#sk-container-id-1 div.sk-toggleable__content pre {margin: 0.2em;color: black;border-radius: 0.25em;background-color: #f0f8ff;}#sk-container-id-1 input.sk-toggleable__control:checked~div.sk-toggleable__content {max-height: 200px;max-width: 100%;overflow: auto;}#sk-container-id-1 input.sk-toggleable__control:checked~label.sk-toggleable__label-arrow:before {content: \"▾\";}#sk-container-id-1 div.sk-estimator input.sk-toggleable__control:checked~label.sk-toggleable__label {background-color: #d4ebff;}#sk-container-id-1 div.sk-label input.sk-toggleable__control:checked~label.sk-toggleable__label {background-color: #d4ebff;}#sk-container-id-1 input.sk-hidden--visually {border: 0;clip: rect(1px 1px 1px 1px);clip: rect(1px, 1px, 1px, 1px);height: 1px;margin: -1px;overflow: hidden;padding: 0;position: absolute;width: 1px;}#sk-container-id-1 div.sk-estimator {font-family: monospace;background-color: #f0f8ff;border: 1px dotted black;border-radius: 0.25em;box-sizing: border-box;margin-bottom: 0.5em;}#sk-container-id-1 div.sk-estimator:hover {background-color: #d4ebff;}#sk-container-id-1 div.sk-parallel-item::after {content: \"\";width: 100%;border-bottom: 1px solid gray;flex-grow: 1;}#sk-container-id-1 div.sk-label:hover label.sk-toggleable__label {background-color: #d4ebff;}#sk-container-id-1 div.sk-serial::before {content: \"\";position: absolute;border-left: 1px solid gray;box-sizing: border-box;top: 0;bottom: 0;left: 50%;z-index: 0;}#sk-container-id-1 div.sk-serial {display: flex;flex-direction: column;align-items: center;background-color: white;padding-right: 0.2em;padding-left: 0.2em;position: relative;}#sk-container-id-1 div.sk-item {position: relative;z-index: 1;}#sk-container-id-1 div.sk-parallel {display: flex;align-items: stretch;justify-content: center;background-color: white;position: relative;}#sk-container-id-1 div.sk-item::before, #sk-container-id-1 div.sk-parallel-item::before {content: \"\";position: absolute;border-left: 1px solid gray;box-sizing: border-box;top: 0;bottom: 0;left: 50%;z-index: -1;}#sk-container-id-1 div.sk-parallel-item {display: flex;flex-direction: column;z-index: 1;position: relative;background-color: white;}#sk-container-id-1 div.sk-parallel-item:first-child::after {align-self: flex-end;width: 50%;}#sk-container-id-1 div.sk-parallel-item:last-child::after {align-self: flex-start;width: 50%;}#sk-container-id-1 div.sk-parallel-item:only-child::after {width: 0;}#sk-container-id-1 div.sk-dashed-wrapped {border: 1px dashed gray;margin: 0 0.4em 0.5em 0.4em;box-sizing: border-box;padding-bottom: 0.4em;background-color: white;}#sk-container-id-1 div.sk-label label {font-family: monospace;font-weight: bold;display: inline-block;line-height: 1.2em;}#sk-container-id-1 div.sk-label-container {text-align: center;}#sk-container-id-1 div.sk-container {/* jupyter's `normalize.less` sets `[hidden] { display: none; }` but bootstrap.min.css set `[hidden] { display: none !important; }` so we also need the `!important` here to be able to override the default hidden behavior on the sphinx rendered scikit-learn.org. See: https://github.com/scikit-learn/scikit-learn/issues/21755 */display: inline-block !important;position: relative;}#sk-container-id-1 div.sk-text-repr-fallback {display: none;}</style><div id=\"sk-container-id-1\" class=\"sk-top-container\"><div class=\"sk-text-repr-fallback\"><pre>GaussianNB()</pre><b>In a Jupyter environment, please rerun this cell to show the HTML representation or trust the notebook. <br />On GitHub, the HTML representation is unable to render, please try loading this page with nbviewer.org.</b></div><div class=\"sk-container\" hidden><div class=\"sk-item\"><div class=\"sk-estimator sk-toggleable\"><input class=\"sk-toggleable__control sk-hidden--visually\" id=\"sk-estimator-id-1\" type=\"checkbox\" checked><label for=\"sk-estimator-id-1\" class=\"sk-toggleable__label sk-toggleable__label-arrow\">GaussianNB</label><div class=\"sk-toggleable__content\"><pre>GaussianNB()</pre></div></div></div></div></div>"
      ],
      "text/plain": [
       "GaussianNB()"
      ]
     },
     "execution_count": 37,
     "metadata": {},
     "output_type": "execute_result"
    }
   ],
   "source": [
    "from sklearn.naive_bayes import GaussianNB\n",
    "gnb=GaussianNB()\n",
    "gnb.fit(x_train,y_train)"
   ]
  },
  {
   "cell_type": "code",
   "execution_count": 38,
   "id": "1eacbdc5",
   "metadata": {
    "execution": {
     "iopub.execute_input": "2024-11-30T12:34:52.744840Z",
     "iopub.status.busy": "2024-11-30T12:34:52.744410Z",
     "iopub.status.idle": "2024-11-30T12:34:52.759153Z",
     "shell.execute_reply": "2024-11-30T12:34:52.758060Z"
    },
    "id": "IblVMycFAFbD",
    "papermill": {
     "duration": 0.039279,
     "end_time": "2024-11-30T12:34:52.761940",
     "exception": false,
     "start_time": "2024-11-30T12:34:52.722661",
     "status": "completed"
    },
    "tags": []
   },
   "outputs": [],
   "source": [
    "predict=gnb.predict(x_test)"
   ]
  },
  {
   "cell_type": "code",
   "execution_count": 39,
   "id": "28988403",
   "metadata": {
    "execution": {
     "iopub.execute_input": "2024-11-30T12:34:52.804169Z",
     "iopub.status.busy": "2024-11-30T12:34:52.803289Z",
     "iopub.status.idle": "2024-11-30T12:34:52.975425Z",
     "shell.execute_reply": "2024-11-30T12:34:52.974230Z"
    },
    "id": "AKH_tsH7BDmh",
    "papermill": {
     "duration": 0.196134,
     "end_time": "2024-11-30T12:34:52.977815",
     "exception": false,
     "start_time": "2024-11-30T12:34:52.781681",
     "status": "completed"
    },
    "tags": []
   },
   "outputs": [
    {
     "name": "stdout",
     "output_type": "stream",
     "text": [
      "0.8450847889838072\n",
      "0.48721804511278194\n",
      "0.2704507512520868\n"
     ]
    },
    {
     "data": {
      "text/plain": [
       "array([[6304,  341],\n",
       "       [ 874,  324]])"
      ]
     },
     "execution_count": 39,
     "metadata": {},
     "output_type": "execute_result"
    }
   ],
   "source": [
    "print(accuracy_score(y_test,predict))\n",
    "print(precision_score(y_test,predict,pos_label='yes'))\n",
    "print(recall_score(y_test,predict,pos_label='yes'))\n",
    "confusion_matrix(y_test,predict)"
   ]
  },
  {
   "cell_type": "code",
   "execution_count": 40,
   "id": "11507235",
   "metadata": {
    "execution": {
     "iopub.execute_input": "2024-11-30T12:34:53.076536Z",
     "iopub.status.busy": "2024-11-30T12:34:53.076048Z",
     "iopub.status.idle": "2024-11-30T12:34:53.413798Z",
     "shell.execute_reply": "2024-11-30T12:34:53.412663Z"
    },
    "id": "8NQgPAvNAK00",
    "papermill": {
     "duration": 0.41791,
     "end_time": "2024-11-30T12:34:53.416042",
     "exception": false,
     "start_time": "2024-11-30T12:34:52.998132",
     "status": "completed"
    },
    "tags": []
   },
   "outputs": [
    {
     "data": {
      "text/plain": [
       "<sklearn.metrics._plot.confusion_matrix.ConfusionMatrixDisplay at 0x7b6f15053070>"
      ]
     },
     "execution_count": 40,
     "metadata": {},
     "output_type": "execute_result"
    },
    {
     "data": {
      "image/png": "[encoded data removed]",
      "text/plain": [
       "<Figure size 640x480 with 2 Axes>"
      ]
     },
     "metadata": {},
     "output_type": "display_data"
    }
   ],
   "source": [
    "confusion_matrix(y_test,predict)\n",
    "ConfusionMatrixDisplay.from_predictions(y_test,predict)"
   ]
  },
  {
   "cell_type": "code",
   "execution_count": 41,
   "id": "27e1973b",
   "metadata": {
    "execution": {
     "iopub.execute_input": "2024-11-30T12:34:53.459845Z",
     "iopub.status.busy": "2024-11-30T12:34:53.459385Z",
     "iopub.status.idle": "2024-11-30T12:34:53.464999Z",
     "shell.execute_reply": "2024-11-30T12:34:53.463851Z"
    },
    "id": "a_KBvwomDNEk",
    "papermill": {
     "duration": 0.030008,
     "end_time": "2024-11-30T12:34:53.467299",
     "exception": false,
     "start_time": "2024-11-30T12:34:53.437291",
     "status": "completed"
    },
    "tags": []
   },
   "outputs": [],
   "source": [
    "from sklearn.model_selection import GridSearchCV\n",
    "\n",
    "param_grid = {\n",
    "    'n_neighbors':[18,19,20]\n",
    "}"
   ]
  },
  {
   "cell_type": "code",
   "execution_count": 42,
   "id": "62911333",
   "metadata": {
    "execution": {
     "iopub.execute_input": "2024-11-30T12:34:53.510172Z",
     "iopub.status.busy": "2024-11-30T12:34:53.509736Z",
     "iopub.status.idle": "2024-11-30T12:35:04.956203Z",
     "shell.execute_reply": "2024-11-30T12:35:04.954689Z"
    },
    "id": "hso6zIquC4Wh",
    "papermill": {
     "duration": 11.471145,
     "end_time": "2024-11-30T12:35:04.959021",
     "exception": false,
     "start_time": "2024-11-30T12:34:53.487876",
     "status": "completed"
    },
    "tags": []
   },
   "outputs": [
    {
     "data": {
      "text/html": [
       "<style>#sk-container-id-2 {color: black;background-color: white;}#sk-container-id-2 pre{padding: 0;}#sk-container-id-2 div.sk-toggleable {background-color: white;}#sk-container-id-2 label.sk-toggleable__label {cursor: pointer;display: block;width: 100%;margin-bottom: 0;padding: 0.3em;box-sizing: border-box;text-align: center;}#sk-container-id-2 label.sk-toggleable__label-arrow:before {content: \"▸\";float: left;margin-right: 0.25em;color: #696969;}#sk-container-id-2 label.sk-toggleable__label-arrow:hover:before {color: black;}#sk-container-id-2 div.sk-estimator:hover label.sk-toggleable__label-arrow:before {color: black;}#sk-container-id-2 div.sk-toggleable__content {max-height: 0;max-width: 0;overflow: hidden;text-align: left;background-color: #f0f8ff;}#sk-container-id-2 div.sk-toggleable__content pre {margin: 0.2em;color: black;border-radius: 0.25em;background-color: #f0f8ff;}#sk-container-id-2 input.sk-toggleable__control:checked~div.sk-toggleable__content {max-height: 200px;max-width: 100%;overflow: auto;}#sk-container-id-2 input.sk-toggleable__control:checked~label.sk-toggleable__label-arrow:before {content: \"▾\";}#sk-container-id-2 div.sk-estimator input.sk-toggleable__control:checked~label.sk-toggleable__label {background-color: #d4ebff;}#sk-container-id-2 div.sk-label input.sk-toggleable__control:checked~label.sk-toggleable__label {background-color: #d4ebff;}#sk-container-id-2 input.sk-hidden--visually {border: 0;clip: rect(1px 1px 1px 1px);clip: rect(1px, 1px, 1px, 1px);height: 1px;margin: -1px;overflow: hidden;padding: 0;position: absolute;width: 1px;}#sk-container-id-2 div.sk-estimator {font-family: monospace;background-color: #f0f8ff;border: 1px dotted black;border-radius: 0.25em;box-sizing: border-box;margin-bottom: 0.5em;}#sk-container-id-2 div.sk-estimator:hover {background-color: #d4ebff;}#sk-container-id-2 div.sk-parallel-item::after {content: \"\";width: 100%;border-bottom: 1px solid gray;flex-grow: 1;}#sk-container-id-2 div.sk-label:hover label.sk-toggleable__label {background-color: #d4ebff;}#sk-container-id-2 div.sk-serial::before {content: \"\";position: absolute;border-left: 1px solid gray;box-sizing: border-box;top: 0;bottom: 0;left: 50%;z-index: 0;}#sk-container-id-2 div.sk-serial {display: flex;flex-direction: column;align-items: center;background-color: white;padding-right: 0.2em;padding-left: 0.2em;position: relative;}#sk-container-id-2 div.sk-item {position: relative;z-index: 1;}#sk-container-id-2 div.sk-parallel {display: flex;align-items: stretch;justify-content: center;background-color: white;position: relative;}#sk-container-id-2 div.sk-item::before, #sk-container-id-2 div.sk-parallel-item::before {content: \"\";position: absolute;border-left: 1px solid gray;box-sizing: border-box;top: 0;bottom: 0;left: 50%;z-index: -1;}#sk-container-id-2 div.sk-parallel-item {display: flex;flex-direction: column;z-index: 1;position: relative;background-color: white;}#sk-container-id-2 div.sk-parallel-item:first-child::after {align-self: flex-end;width: 50%;}#sk-container-id-2 div.sk-parallel-item:last-child::after {align-self: flex-start;width: 50%;}#sk-container-id-2 div.sk-parallel-item:only-child::after {width: 0;}#sk-container-id-2 div.sk-dashed-wrapped {border: 1px dashed gray;margin: 0 0.4em 0.5em 0.4em;box-sizing: border-box;padding-bottom: 0.4em;background-color: white;}#sk-container-id-2 div.sk-label label {font-family: monospace;font-weight: bold;display: inline-block;line-height: 1.2em;}#sk-container-id-2 div.sk-label-container {text-align: center;}#sk-container-id-2 div.sk-container {/* jupyter's `normalize.less` sets `[hidden] { display: none; }` but bootstrap.min.css set `[hidden] { display: none !important; }` so we also need the `!important` here to be able to override the default hidden behavior on the sphinx rendered scikit-learn.org. See: https://github.com/scikit-learn/scikit-learn/issues/21755 */display: inline-block !important;position: relative;}#sk-container-id-2 div.sk-text-repr-fallback {display: none;}</style><div id=\"sk-container-id-2\" class=\"sk-top-container\"><div class=\"sk-text-repr-fallback\"><pre>GridSearchCV(cv=5, estimator=KNeighborsClassifier(),\n",
       "             param_grid={&#x27;n_neighbors&#x27;: [18, 19, 20]}, scoring=&#x27;accuracy&#x27;)</pre><b>In a Jupyter environment, please rerun this cell to show the HTML representation or trust the notebook. <br />On GitHub, the HTML representation is unable to render, please try loading this page with nbviewer.org.</b></div><div class=\"sk-container\" hidden><div class=\"sk-item sk-dashed-wrapped\"><div class=\"sk-label-container\"><div class=\"sk-label sk-toggleable\"><input class=\"sk-toggleable__control sk-hidden--visually\" id=\"sk-estimator-id-2\" type=\"checkbox\" ><label for=\"sk-estimator-id-2\" class=\"sk-toggleable__label sk-toggleable__label-arrow\">GridSearchCV</label><div class=\"sk-toggleable__content\"><pre>GridSearchCV(cv=5, estimator=KNeighborsClassifier(),\n",
       "             param_grid={&#x27;n_neighbors&#x27;: [18, 19, 20]}, scoring=&#x27;accuracy&#x27;)</pre></div></div></div><div class=\"sk-parallel\"><div class=\"sk-parallel-item\"><div class=\"sk-item\"><div class=\"sk-label-container\"><div class=\"sk-label sk-toggleable\"><input class=\"sk-toggleable__control sk-hidden--visually\" id=\"sk-estimator-id-3\" type=\"checkbox\" ><label for=\"sk-estimator-id-3\" class=\"sk-toggleable__label sk-toggleable__label-arrow\">estimator: KNeighborsClassifier</label><div class=\"sk-toggleable__content\"><pre>KNeighborsClassifier()</pre></div></div></div><div class=\"sk-serial\"><div class=\"sk-item\"><div class=\"sk-estimator sk-toggleable\"><input class=\"sk-toggleable__control sk-hidden--visually\" id=\"sk-estimator-id-4\" type=\"checkbox\" ><label for=\"sk-estimator-id-4\" class=\"sk-toggleable__label sk-toggleable__label-arrow\">KNeighborsClassifier</label><div class=\"sk-toggleable__content\"><pre>KNeighborsClassifier()</pre></div></div></div></div></div></div></div></div></div></div>"
      ],
      "text/plain": [
       "GridSearchCV(cv=5, estimator=KNeighborsClassifier(),\n",
       "             param_grid={'n_neighbors': [18, 19, 20]}, scoring='accuracy')"
      ]
     },
     "execution_count": 42,
     "metadata": {},
     "output_type": "execute_result"
    }
   ],
   "source": [
    "from sklearn.neighbors import KNeighborsClassifier\n",
    "grid_search = GridSearchCV(KNeighborsClassifier(),param_grid,cv=5,scoring='accuracy')\n",
    "grid_search.fit(x_train,y_train)"
   ]
  },
  {
   "cell_type": "code",
   "execution_count": 43,
   "id": "0de6e97a",
   "metadata": {
    "execution": {
     "iopub.execute_input": "2024-11-30T12:35:05.004010Z",
     "iopub.status.busy": "2024-11-30T12:35:05.003582Z",
     "iopub.status.idle": "2024-11-30T12:35:05.009702Z",
     "shell.execute_reply": "2024-11-30T12:35:05.008351Z"
    },
    "papermill": {
     "duration": 0.032498,
     "end_time": "2024-11-30T12:35:05.013177",
     "exception": false,
     "start_time": "2024-11-30T12:35:04.980679",
     "status": "completed"
    },
    "tags": []
   },
   "outputs": [
    {
     "name": "stdout",
     "output_type": "stream",
     "text": [
      "{'n_neighbors': 19}\n"
     ]
    }
   ],
   "source": [
    "print(grid_search.best_params_)"
   ]
  },
  {
   "cell_type": "code",
   "execution_count": 44,
   "id": "019337cb",
   "metadata": {
    "execution": {
     "iopub.execute_input": "2024-11-30T12:35:05.057910Z",
     "iopub.status.busy": "2024-11-30T12:35:05.057457Z",
     "iopub.status.idle": "2024-11-30T12:35:06.068898Z",
     "shell.execute_reply": "2024-11-30T12:35:06.067546Z"
    },
    "id": "211aZ8ApDBhZ",
    "papermill": {
     "duration": 1.03791,
     "end_time": "2024-11-30T12:35:06.072129",
     "exception": false,
     "start_time": "2024-11-30T12:35:05.034219",
     "status": "completed"
    },
    "tags": []
   },
   "outputs": [],
   "source": [
    "predict=grid_search.predict(x_test)"
   ]
  },
  {
   "cell_type": "code",
   "execution_count": 45,
   "id": "84e518f5",
   "metadata": {
    "execution": {
     "iopub.execute_input": "2024-11-30T12:35:06.135997Z",
     "iopub.status.busy": "2024-11-30T12:35:06.135563Z",
     "iopub.status.idle": "2024-11-30T12:35:06.389485Z",
     "shell.execute_reply": "2024-11-30T12:35:06.387685Z"
    },
    "id": "Rr_nLVOwDGBV",
    "papermill": {
     "duration": 0.288669,
     "end_time": "2024-11-30T12:35:06.392610",
     "exception": false,
     "start_time": "2024-11-30T12:35:06.103941",
     "status": "completed"
    },
    "tags": []
   },
   "outputs": [
    {
     "name": "stdout",
     "output_type": "stream",
     "text": [
      "0.8519699094734158\n",
      "0.5265423242467718\n",
      "0.3063439065108514\n"
     ]
    },
    {
     "data": {
      "text/plain": [
       "array([[6315,  330],\n",
       "       [ 831,  367]])"
      ]
     },
     "execution_count": 45,
     "metadata": {},
     "output_type": "execute_result"
    }
   ],
   "source": [
    "print(accuracy_score(y_test,predict))\n",
    "print(precision_score(y_test,predict,pos_label='yes'))\n",
    "print(recall_score(y_test,predict,pos_label='yes'))\n",
    "confusion_matrix(y_test,predict)"
   ]
  },
  {
   "cell_type": "code",
   "execution_count": 46,
   "id": "c5299641",
   "metadata": {
    "execution": {
     "iopub.execute_input": "2024-11-30T12:35:06.450916Z",
     "iopub.status.busy": "2024-11-30T12:35:06.449218Z",
     "iopub.status.idle": "2024-11-30T12:35:06.804482Z",
     "shell.execute_reply": "2024-11-30T12:35:06.803184Z"
    },
    "id": "WckuWqg3FZDU",
    "papermill": {
     "duration": 0.385302,
     "end_time": "2024-11-30T12:35:06.807619",
     "exception": false,
     "start_time": "2024-11-30T12:35:06.422317",
     "status": "completed"
    },
    "tags": []
   },
   "outputs": [
    {
     "data": {
      "text/plain": [
       "<sklearn.metrics._plot.confusion_matrix.ConfusionMatrixDisplay at 0x7b6f10526b90>"
      ]
     },
     "execution_count": 46,
     "metadata": {},
     "output_type": "execute_result"
    },
    {
     "data": {
      "image/png": "[encoded data removed]",
      "text/plain": [
       "<Figure size 640x480 with 2 Axes>"
      ]
     },
     "metadata": {},
     "output_type": "display_data"
    }
   ],
   "source": [
    "ConfusionMatrixDisplay.from_predictions(y_test,predict)"
   ]
  },
  {
   "cell_type": "code",
   "execution_count": 47,
   "id": "c09657ae",
   "metadata": {
    "execution": {
     "iopub.execute_input": "2024-11-30T12:35:06.859056Z",
     "iopub.status.busy": "2024-11-30T12:35:06.858592Z",
     "iopub.status.idle": "2024-11-30T12:35:06.864594Z",
     "shell.execute_reply": "2024-11-30T12:35:06.863307Z"
    },
    "id": "iHG9moWxG_Cz",
    "papermill": {
     "duration": 0.034293,
     "end_time": "2024-11-30T12:35:06.866829",
     "exception": false,
     "start_time": "2024-11-30T12:35:06.832536",
     "status": "completed"
    },
    "tags": []
   },
   "outputs": [],
   "source": [
    "param_grid = {\n",
    "    'C': [10],                   # Regularization parameter\n",
    "    'kernel': ['rbf'],  # Kernel type\n",
    "    'gamma': [10],             # Kernel coefficient for 'rbf', 'poly', and 'sigmoid'\n",
    "    'coef0': [0.5],                # Independent term in kernel function for 'poly' and 'sigmoid'\n",
    "}"
   ]
  },
  {
   "cell_type": "code",
   "execution_count": 48,
   "id": "2ba93ca6",
   "metadata": {
    "execution": {
     "iopub.execute_input": "2024-11-30T12:35:06.913665Z",
     "iopub.status.busy": "2024-11-30T12:35:06.913134Z",
     "iopub.status.idle": "2024-11-30T12:43:25.709764Z",
     "shell.execute_reply": "2024-11-30T12:43:25.708289Z"
    },
    "id": "2yZyCdlQGJiD",
    "papermill": {
     "duration": 498.843631,
     "end_time": "2024-11-30T12:43:25.732790",
     "exception": false,
     "start_time": "2024-11-30T12:35:06.889159",
     "status": "completed"
    },
    "tags": []
   },
   "outputs": [
    {
     "data": {
      "text/html": [
       "<style>#sk-container-id-3 {color: black;background-color: white;}#sk-container-id-3 pre{padding: 0;}#sk-container-id-3 div.sk-toggleable {background-color: white;}#sk-container-id-3 label.sk-toggleable__label {cursor: pointer;display: block;width: 100%;margin-bottom: 0;padding: 0.3em;box-sizing: border-box;text-align: center;}#sk-container-id-3 label.sk-toggleable__label-arrow:before {content: \"▸\";float: left;margin-right: 0.25em;color: #696969;}#sk-container-id-3 label.sk-toggleable__label-arrow:hover:before {color: black;}#sk-container-id-3 div.sk-estimator:hover label.sk-toggleable__label-arrow:before {color: black;}#sk-container-id-3 div.sk-toggleable__content {max-height: 0;max-width: 0;overflow: hidden;text-align: left;background-color: #f0f8ff;}#sk-container-id-3 div.sk-toggleable__content pre {margin: 0.2em;color: black;border-radius: 0.25em;background-color: #f0f8ff;}#sk-container-id-3 input.sk-toggleable__control:checked~div.sk-toggleable__content {max-height: 200px;max-width: 100%;overflow: auto;}#sk-container-id-3 input.sk-toggleable__control:checked~label.sk-toggleable__label-arrow:before {content: \"▾\";}#sk-container-id-3 div.sk-estimator input.sk-toggleable__control:checked~label.sk-toggleable__label {background-color: #d4ebff;}#sk-container-id-3 div.sk-label input.sk-toggleable__control:checked~label.sk-toggleable__label {background-color: #d4ebff;}#sk-container-id-3 input.sk-hidden--visually {border: 0;clip: rect(1px 1px 1px 1px);clip: rect(1px, 1px, 1px, 1px);height: 1px;margin: -1px;overflow: hidden;padding: 0;position: absolute;width: 1px;}#sk-container-id-3 div.sk-estimator {font-family: monospace;background-color: #f0f8ff;border: 1px dotted black;border-radius: 0.25em;box-sizing: border-box;margin-bottom: 0.5em;}#sk-container-id-3 div.sk-estimator:hover {background-color: #d4ebff;}#sk-container-id-3 div.sk-parallel-item::after {content: \"\";width: 100%;border-bottom: 1px solid gray;flex-grow: 1;}#sk-container-id-3 div.sk-label:hover label.sk-toggleable__label {background-color: #d4ebff;}#sk-container-id-3 div.sk-serial::before {content: \"\";position: absolute;border-left: 1px solid gray;box-sizing: border-box;top: 0;bottom: 0;left: 50%;z-index: 0;}#sk-container-id-3 div.sk-serial {display: flex;flex-direction: column;align-items: center;background-color: white;padding-right: 0.2em;padding-left: 0.2em;position: relative;}#sk-container-id-3 div.sk-item {position: relative;z-index: 1;}#sk-container-id-3 div.sk-parallel {display: flex;align-items: stretch;justify-content: center;background-color: white;position: relative;}#sk-container-id-3 div.sk-item::before, #sk-container-id-3 div.sk-parallel-item::before {content: \"\";position: absolute;border-left: 1px solid gray;box-sizing: border-box;top: 0;bottom: 0;left: 50%;z-index: -1;}#sk-container-id-3 div.sk-parallel-item {display: flex;flex-direction: column;z-index: 1;position: relative;background-color: white;}#sk-container-id-3 div.sk-parallel-item:first-child::after {align-self: flex-end;width: 50%;}#sk-container-id-3 div.sk-parallel-item:last-child::after {align-self: flex-start;width: 50%;}#sk-container-id-3 div.sk-parallel-item:only-child::after {width: 0;}#sk-container-id-3 div.sk-dashed-wrapped {border: 1px dashed gray;margin: 0 0.4em 0.5em 0.4em;box-sizing: border-box;padding-bottom: 0.4em;background-color: white;}#sk-container-id-3 div.sk-label label {font-family: monospace;font-weight: bold;display: inline-block;line-height: 1.2em;}#sk-container-id-3 div.sk-label-container {text-align: center;}#sk-container-id-3 div.sk-container {/* jupyter's `normalize.less` sets `[hidden] { display: none; }` but bootstrap.min.css set `[hidden] { display: none !important; }` so we also need the `!important` here to be able to override the default hidden behavior on the sphinx rendered scikit-learn.org. See: https://github.com/scikit-learn/scikit-learn/issues/21755 */display: inline-block !important;position: relative;}#sk-container-id-3 div.sk-text-repr-fallback {display: none;}</style><div id=\"sk-container-id-3\" class=\"sk-top-container\"><div class=\"sk-text-repr-fallback\"><pre>GridSearchCV(cv=2, estimator=SVC(),\n",
       "             param_grid={&#x27;C&#x27;: [10], &#x27;coef0&#x27;: [0.5], &#x27;gamma&#x27;: [10],\n",
       "                         &#x27;kernel&#x27;: [&#x27;rbf&#x27;]},\n",
       "             scoring=&#x27;accuracy&#x27;)</pre><b>In a Jupyter environment, please rerun this cell to show the HTML representation or trust the notebook. <br />On GitHub, the HTML representation is unable to render, please try loading this page with nbviewer.org.</b></div><div class=\"sk-container\" hidden><div class=\"sk-item sk-dashed-wrapped\"><div class=\"sk-label-container\"><div class=\"sk-label sk-toggleable\"><input class=\"sk-toggleable__control sk-hidden--visually\" id=\"sk-estimator-id-5\" type=\"checkbox\" ><label for=\"sk-estimator-id-5\" class=\"sk-toggleable__label sk-toggleable__label-arrow\">GridSearchCV</label><div class=\"sk-toggleable__content\"><pre>GridSearchCV(cv=2, estimator=SVC(),\n",
       "             param_grid={&#x27;C&#x27;: [10], &#x27;coef0&#x27;: [0.5], &#x27;gamma&#x27;: [10],\n",
       "                         &#x27;kernel&#x27;: [&#x27;rbf&#x27;]},\n",
       "             scoring=&#x27;accuracy&#x27;)</pre></div></div></div><div class=\"sk-parallel\"><div class=\"sk-parallel-item\"><div class=\"sk-item\"><div class=\"sk-label-container\"><div class=\"sk-label sk-toggleable\"><input class=\"sk-toggleable__control sk-hidden--visually\" id=\"sk-estimator-id-6\" type=\"checkbox\" ><label for=\"sk-estimator-id-6\" class=\"sk-toggleable__label sk-toggleable__label-arrow\">estimator: SVC</label><div class=\"sk-toggleable__content\"><pre>SVC()</pre></div></div></div><div class=\"sk-serial\"><div class=\"sk-item\"><div class=\"sk-estimator sk-toggleable\"><input class=\"sk-toggleable__control sk-hidden--visually\" id=\"sk-estimator-id-7\" type=\"checkbox\" ><label for=\"sk-estimator-id-7\" class=\"sk-toggleable__label sk-toggleable__label-arrow\">SVC</label><div class=\"sk-toggleable__content\"><pre>SVC()</pre></div></div></div></div></div></div></div></div></div></div>"
      ],
      "text/plain": [
       "GridSearchCV(cv=2, estimator=SVC(),\n",
       "             param_grid={'C': [10], 'coef0': [0.5], 'gamma': [10],\n",
       "                         'kernel': ['rbf']},\n",
       "             scoring='accuracy')"
      ]
     },
     "execution_count": 48,
     "metadata": {},
     "output_type": "execute_result"
    }
   ],
   "source": [
    "from sklearn.svm import SVC\n",
    "grid_search_svc = GridSearchCV(SVC(),param_grid=param_grid,cv=2,scoring='accuracy')\n",
    "grid_search_svc.fit(x_train,y_train)"
   ]
  },
  {
   "cell_type": "code",
   "execution_count": 49,
   "id": "03ba2aa2",
   "metadata": {
    "execution": {
     "iopub.execute_input": "2024-11-30T12:43:25.777292Z",
     "iopub.status.busy": "2024-11-30T12:43:25.776868Z",
     "iopub.status.idle": "2024-11-30T12:43:25.783090Z",
     "shell.execute_reply": "2024-11-30T12:43:25.781852Z"
    },
    "papermill": {
     "duration": 0.03121,
     "end_time": "2024-11-30T12:43:25.785501",
     "exception": false,
     "start_time": "2024-11-30T12:43:25.754291",
     "status": "completed"
    },
    "tags": []
   },
   "outputs": [
    {
     "name": "stdout",
     "output_type": "stream",
     "text": [
      "{'C': 10, 'coef0': 0.5, 'gamma': 10, 'kernel': 'rbf'}\n"
     ]
    }
   ],
   "source": [
    "print(grid_search_svc.best_params_)"
   ]
  },
  {
   "cell_type": "code",
   "execution_count": 50,
   "id": "b0c656db",
   "metadata": {
    "execution": {
     "iopub.execute_input": "2024-11-30T12:43:25.830056Z",
     "iopub.status.busy": "2024-11-30T12:43:25.829620Z",
     "iopub.status.idle": "2024-11-30T12:43:44.128271Z",
     "shell.execute_reply": "2024-11-30T12:43:44.127024Z"
    },
    "id": "UidZ7fYSGs5h",
    "papermill": {
     "duration": 18.324552,
     "end_time": "2024-11-30T12:43:44.131580",
     "exception": false,
     "start_time": "2024-11-30T12:43:25.807028",
     "status": "completed"
    },
    "tags": []
   },
   "outputs": [],
   "source": [
    "predict = grid_search_svc.predict(x_test)"
   ]
  },
  {
   "cell_type": "code",
   "execution_count": 51,
   "id": "5ed14fa3",
   "metadata": {
    "execution": {
     "iopub.execute_input": "2024-11-30T12:43:44.178018Z",
     "iopub.status.busy": "2024-11-30T12:43:44.177634Z",
     "iopub.status.idle": "2024-11-30T12:43:44.380992Z",
     "shell.execute_reply": "2024-11-30T12:43:44.379761Z"
    },
    "id": "I8pNPFnCGxCS",
    "papermill": {
     "duration": 0.228733,
     "end_time": "2024-11-30T12:43:44.383148",
     "exception": false,
     "start_time": "2024-11-30T12:43:44.154415",
     "status": "completed"
    },
    "tags": []
   },
   "outputs": [
    {
     "name": "stdout",
     "output_type": "stream",
     "text": [
      "0.847252326915721\n",
      "0.0\n",
      "0.0\n"
     ]
    },
    {
     "name": "stderr",
     "output_type": "stream",
     "text": [
      "/opt/conda/lib/python3.10/site-packages/sklearn/metrics/_classification.py:1344: UndefinedMetricWarning: Precision is ill-defined and being set to 0.0 due to no predicted samples. Use `zero_division` parameter to control this behavior.\n",
      "  _warn_prf(average, modifier, msg_start, len(result))\n"
     ]
    },
    {
     "data": {
      "text/plain": [
       "array([[6645,    0],\n",
       "       [1198,    0]])"
      ]
     },
     "execution_count": 51,
     "metadata": {},
     "output_type": "execute_result"
    }
   ],
   "source": [
    "print(accuracy_score(y_test,predict))\n",
    "print(precision_score(y_test,predict,pos_label='yes'))\n",
    "print(recall_score(y_test,predict,pos_label='yes'))\n",
    "# for sigmoid...\n",
    "# accuracy 0.7836287135024863\n",
    "# precision 0.2865697177074423\n",
    "# recall 0.27963272120200333\n",
    "confusion_matrix(y_test,predict)"
   ]
  },
  {
   "cell_type": "code",
   "execution_count": 52,
   "id": "e3205545",
   "metadata": {
    "execution": {
     "iopub.execute_input": "2024-11-30T12:43:44.429389Z",
     "iopub.status.busy": "2024-11-30T12:43:44.429021Z",
     "iopub.status.idle": "2024-11-30T12:43:44.706691Z",
     "shell.execute_reply": "2024-11-30T12:43:44.705531Z"
    },
    "id": "43168cZ-GzKO",
    "papermill": {
     "duration": 0.303066,
     "end_time": "2024-11-30T12:43:44.708907",
     "exception": false,
     "start_time": "2024-11-30T12:43:44.405841",
     "status": "completed"
    },
    "tags": []
   },
   "outputs": [
    {
     "data": {
      "text/plain": [
       "<sklearn.metrics._plot.confusion_matrix.ConfusionMatrixDisplay at 0x7b6f0ca3c6a0>"
      ]
     },
     "execution_count": 52,
     "metadata": {},
     "output_type": "execute_result"
    },
    {
     "data": {
      "image/png": "[encoded data removed]",
      "text/plain": [
       "<Figure size 640x480 with 2 Axes>"
      ]
     },
     "metadata": {},
     "output_type": "display_data"
    }
   ],
   "source": [
    "ConfusionMatrixDisplay.from_predictions(y_test,predict)"
   ]
  },
  {
   "cell_type": "markdown",
   "id": "3b2bd7b8",
   "metadata": {
    "papermill": {
     "duration": 0.023688,
     "end_time": "2024-11-30T12:43:44.755076",
     "exception": false,
     "start_time": "2024-11-30T12:43:44.731388",
     "status": "completed"
    },
    "tags": []
   },
   "source": [
    "Using Gaussian Naive Bayes Algorithm finally"
   ]
  },
  {
   "cell_type": "code",
   "execution_count": 53,
   "id": "db07286e",
   "metadata": {
    "execution": {
     "iopub.execute_input": "2024-11-30T12:43:44.802562Z",
     "iopub.status.busy": "2024-11-30T12:43:44.801970Z",
     "iopub.status.idle": "2024-11-30T12:43:44.841550Z",
     "shell.execute_reply": "2024-11-30T12:43:44.840262Z"
    },
    "papermill": {
     "duration": 0.066772,
     "end_time": "2024-11-30T12:43:44.844205",
     "exception": false,
     "start_time": "2024-11-30T12:43:44.777433",
     "status": "completed"
    },
    "tags": []
   },
   "outputs": [],
   "source": [
    "test = pd.read_csv('/kaggle/input/predict-the-success-of-bank-telemarketing/test.csv')"
   ]
  },
  {
   "cell_type": "code",
   "execution_count": 54,
   "id": "74c13297",
   "metadata": {
    "execution": {
     "iopub.execute_input": "2024-11-30T12:43:44.892545Z",
     "iopub.status.busy": "2024-11-30T12:43:44.891311Z",
     "iopub.status.idle": "2024-11-30T12:43:44.906790Z",
     "shell.execute_reply": "2024-11-30T12:43:44.905568Z"
    },
    "papermill": {
     "duration": 0.042077,
     "end_time": "2024-11-30T12:43:44.909432",
     "exception": false,
     "start_time": "2024-11-30T12:43:44.867355",
     "status": "completed"
    },
    "tags": []
   },
   "outputs": [
    {
     "data": {
      "text/plain": [
       "last contact date     908\n",
       "age                    77\n",
       "job                    11\n",
       "marital                 3\n",
       "education               3\n",
       "default                 2\n",
       "balance              4384\n",
       "housing                 2\n",
       "loan                    2\n",
       "contact                 2\n",
       "duration             1664\n",
       "campaign               63\n",
       "pdays                 679\n",
       "previous              261\n",
       "poutcome                3\n",
       "dtype: int64"
      ]
     },
     "execution_count": 54,
     "metadata": {},
     "output_type": "execute_result"
    }
   ],
   "source": [
    "test.nunique()"
   ]
  },
  {
   "cell_type": "code",
   "execution_count": 55,
   "id": "4c4c49ec",
   "metadata": {
    "execution": {
     "iopub.execute_input": "2024-11-30T12:43:44.957435Z",
     "iopub.status.busy": "2024-11-30T12:43:44.957041Z",
     "iopub.status.idle": "2024-11-30T12:43:44.971132Z",
     "shell.execute_reply": "2024-11-30T12:43:44.969910Z"
    },
    "papermill": {
     "duration": 0.040743,
     "end_time": "2024-11-30T12:43:44.973606",
     "exception": false,
     "start_time": "2024-11-30T12:43:44.932863",
     "status": "completed"
    },
    "tags": []
   },
   "outputs": [
    {
     "data": {
      "text/plain": [
       "last contact date       0\n",
       "age                     0\n",
       "job                    59\n",
       "marital                 0\n",
       "education             390\n",
       "default                 0\n",
       "balance                 0\n",
       "housing                 0\n",
       "loan                    0\n",
       "contact              2684\n",
       "duration                0\n",
       "campaign                0\n",
       "pdays                   0\n",
       "previous                0\n",
       "poutcome             7508\n",
       "dtype: int64"
      ]
     },
     "execution_count": 55,
     "metadata": {},
     "output_type": "execute_result"
    }
   ],
   "source": [
    "test.isna().sum()"
   ]
  },
  {
   "cell_type": "code",
   "execution_count": 56,
   "id": "2f5ecb6a",
   "metadata": {
    "execution": {
     "iopub.execute_input": "2024-11-30T12:43:45.023111Z",
     "iopub.status.busy": "2024-11-30T12:43:45.022721Z",
     "iopub.status.idle": "2024-11-30T12:43:45.063323Z",
     "shell.execute_reply": "2024-11-30T12:43:45.062130Z"
    },
    "papermill": {
     "duration": 0.067888,
     "end_time": "2024-11-30T12:43:45.066003",
     "exception": false,
     "start_time": "2024-11-30T12:43:44.998115",
     "status": "completed"
    },
    "tags": []
   },
   "outputs": [],
   "source": [
    "test = remove_null(test)\n",
    "test = replace_nulls(test)\n",
    "test = convert_date(test)"
   ]
  },
  {
   "cell_type": "code",
   "execution_count": 57,
   "id": "19c0c430",
   "metadata": {
    "execution": {
     "iopub.execute_input": "2024-11-30T12:43:45.114421Z",
     "iopub.status.busy": "2024-11-30T12:43:45.114054Z",
     "iopub.status.idle": "2024-11-30T12:43:45.126922Z",
     "shell.execute_reply": "2024-11-30T12:43:45.125743Z"
    },
    "papermill": {
     "duration": 0.039521,
     "end_time": "2024-11-30T12:43:45.129117",
     "exception": false,
     "start_time": "2024-11-30T12:43:45.089596",
     "status": "completed"
    },
    "tags": []
   },
   "outputs": [
    {
     "data": {
      "text/plain": [
       "age          0\n",
       "job          0\n",
       "marital      0\n",
       "education    0\n",
       "default      0\n",
       "balance      0\n",
       "housing      0\n",
       "loan         0\n",
       "contact      0\n",
       "duration     0\n",
       "campaign     0\n",
       "pdays        0\n",
       "previous     0\n",
       "day          0\n",
       "month        0\n",
       "year         0\n",
       "dtype: int64"
      ]
     },
     "execution_count": 57,
     "metadata": {},
     "output_type": "execute_result"
    }
   ],
   "source": [
    "test.isna().sum()"
   ]
  },
  {
   "cell_type": "code",
   "execution_count": 58,
   "id": "5a509c33",
   "metadata": {
    "execution": {
     "iopub.execute_input": "2024-11-30T12:43:45.178004Z",
     "iopub.status.busy": "2024-11-30T12:43:45.177579Z",
     "iopub.status.idle": "2024-11-30T12:43:45.230949Z",
     "shell.execute_reply": "2024-11-30T12:43:45.229845Z"
    },
    "papermill": {
     "duration": 0.081748,
     "end_time": "2024-11-30T12:43:45.233728",
     "exception": false,
     "start_time": "2024-11-30T12:43:45.151980",
     "status": "completed"
    },
    "tags": []
   },
   "outputs": [],
   "source": [
    "for i in col_to_label_encode:\n",
    "  col_encoded = one_hot.fit_transform(test[[i]])\n",
    "  col_encoded_df = pd.DataFrame(col_encoded,columns=one_hot.get_feature_names_out([i]))\n",
    "  test = pd.concat([test,col_encoded_df],axis=1)\n",
    "test=test.drop(columns=col_to_label_encode)\n",
    "test['education'] = ordinal.fit_transform(test[['education']]) # [['education']] ensures that column is a 2D array."
   ]
  },
  {
   "cell_type": "code",
   "execution_count": 59,
   "id": "ee96f3bb",
   "metadata": {
    "execution": {
     "iopub.execute_input": "2024-11-30T12:43:45.282623Z",
     "iopub.status.busy": "2024-11-30T12:43:45.282191Z",
     "iopub.status.idle": "2024-11-30T12:43:45.294088Z",
     "shell.execute_reply": "2024-11-30T12:43:45.292778Z"
    },
    "papermill": {
     "duration": 0.039236,
     "end_time": "2024-11-30T12:43:45.296734",
     "exception": false,
     "start_time": "2024-11-30T12:43:45.257498",
     "status": "completed"
    },
    "tags": []
   },
   "outputs": [],
   "source": [
    "predict_for_test_dataset=gnb.predict(test)"
   ]
  },
  {
   "cell_type": "code",
   "execution_count": 60,
   "id": "75ef019d",
   "metadata": {
    "execution": {
     "iopub.execute_input": "2024-11-30T12:43:45.344772Z",
     "iopub.status.busy": "2024-11-30T12:43:45.344356Z",
     "iopub.status.idle": "2024-11-30T12:43:45.351412Z",
     "shell.execute_reply": "2024-11-30T12:43:45.350199Z"
    },
    "papermill": {
     "duration": 0.033389,
     "end_time": "2024-11-30T12:43:45.353824",
     "exception": false,
     "start_time": "2024-11-30T12:43:45.320435",
     "status": "completed"
    },
    "tags": []
   },
   "outputs": [
    {
     "data": {
      "text/plain": [
       "array(['no', 'no', 'no', ..., 'no', 'no', 'no'], dtype='<U3')"
      ]
     },
     "execution_count": 60,
     "metadata": {},
     "output_type": "execute_result"
    }
   ],
   "source": [
    "predict_for_test_dataset"
   ]
  },
  {
   "cell_type": "code",
   "execution_count": 61,
   "id": "afe1b90a",
   "metadata": {
    "execution": {
     "iopub.execute_input": "2024-11-30T12:43:45.401944Z",
     "iopub.status.busy": "2024-11-30T12:43:45.401437Z",
     "iopub.status.idle": "2024-11-30T12:43:45.533544Z",
     "shell.execute_reply": "2024-11-30T12:43:45.532043Z"
    },
    "papermill": {
     "duration": 0.159511,
     "end_time": "2024-11-30T12:43:45.536194",
     "exception": false,
     "start_time": "2024-11-30T12:43:45.376683",
     "status": "completed"
    },
    "tags": []
   },
   "outputs": [],
   "source": [
    "from sklearn.ensemble import RandomForestClassifier"
   ]
  },
  {
   "cell_type": "code",
   "execution_count": 62,
   "id": "90756cb6",
   "metadata": {
    "execution": {
     "iopub.execute_input": "2024-11-30T12:43:45.588247Z",
     "iopub.status.busy": "2024-11-30T12:43:45.587869Z",
     "iopub.status.idle": "2024-11-30T12:43:45.593328Z",
     "shell.execute_reply": "2024-11-30T12:43:45.592111Z"
    },
    "papermill": {
     "duration": 0.035808,
     "end_time": "2024-11-30T12:43:45.595499",
     "exception": false,
     "start_time": "2024-11-30T12:43:45.559691",
     "status": "completed"
    },
    "tags": []
   },
   "outputs": [],
   "source": [
    "rf = RandomForestClassifier(n_estimators=500, random_state=42)"
   ]
  },
  {
   "cell_type": "code",
   "execution_count": 63,
   "id": "4ab385b3",
   "metadata": {
    "execution": {
     "iopub.execute_input": "2024-11-30T12:43:45.642807Z",
     "iopub.status.busy": "2024-11-30T12:43:45.642375Z",
     "iopub.status.idle": "2024-11-30T12:44:07.878843Z",
     "shell.execute_reply": "2024-11-30T12:44:07.877566Z"
    },
    "papermill": {
     "duration": 22.262854,
     "end_time": "2024-11-30T12:44:07.881203",
     "exception": false,
     "start_time": "2024-11-30T12:43:45.618349",
     "status": "completed"
    },
    "tags": []
   },
   "outputs": [
    {
     "data": {
      "text/html": [
       "<style>#sk-container-id-4 {color: black;background-color: white;}#sk-container-id-4 pre{padding: 0;}#sk-container-id-4 div.sk-toggleable {background-color: white;}#sk-container-id-4 label.sk-toggleable__label {cursor: pointer;display: block;width: 100%;margin-bottom: 0;padding: 0.3em;box-sizing: border-box;text-align: center;}#sk-container-id-4 label.sk-toggleable__label-arrow:before {content: \"▸\";float: left;margin-right: 0.25em;color: #696969;}#sk-container-id-4 label.sk-toggleable__label-arrow:hover:before {color: black;}#sk-container-id-4 div.sk-estimator:hover label.sk-toggleable__label-arrow:before {color: black;}#sk-container-id-4 div.sk-toggleable__content {max-height: 0;max-width: 0;overflow: hidden;text-align: left;background-color: #f0f8ff;}#sk-container-id-4 div.sk-toggleable__content pre {margin: 0.2em;color: black;border-radius: 0.25em;background-color: #f0f8ff;}#sk-container-id-4 input.sk-toggleable__control:checked~div.sk-toggleable__content {max-height: 200px;max-width: 100%;overflow: auto;}#sk-container-id-4 input.sk-toggleable__control:checked~label.sk-toggleable__label-arrow:before {content: \"▾\";}#sk-container-id-4 div.sk-estimator input.sk-toggleable__control:checked~label.sk-toggleable__label {background-color: #d4ebff;}#sk-container-id-4 div.sk-label input.sk-toggleable__control:checked~label.sk-toggleable__label {background-color: #d4ebff;}#sk-container-id-4 input.sk-hidden--visually {border: 0;clip: rect(1px 1px 1px 1px);clip: rect(1px, 1px, 1px, 1px);height: 1px;margin: -1px;overflow: hidden;padding: 0;position: absolute;width: 1px;}#sk-container-id-4 div.sk-estimator {font-family: monospace;background-color: #f0f8ff;border: 1px dotted black;border-radius: 0.25em;box-sizing: border-box;margin-bottom: 0.5em;}#sk-container-id-4 div.sk-estimator:hover {background-color: #d4ebff;}#sk-container-id-4 div.sk-parallel-item::after {content: \"\";width: 100%;border-bottom: 1px solid gray;flex-grow: 1;}#sk-container-id-4 div.sk-label:hover label.sk-toggleable__label {background-color: #d4ebff;}#sk-container-id-4 div.sk-serial::before {content: \"\";position: absolute;border-left: 1px solid gray;box-sizing: border-box;top: 0;bottom: 0;left: 50%;z-index: 0;}#sk-container-id-4 div.sk-serial {display: flex;flex-direction: column;align-items: center;background-color: white;padding-right: 0.2em;padding-left: 0.2em;position: relative;}#sk-container-id-4 div.sk-item {position: relative;z-index: 1;}#sk-container-id-4 div.sk-parallel {display: flex;align-items: stretch;justify-content: center;background-color: white;position: relative;}#sk-container-id-4 div.sk-item::before, #sk-container-id-4 div.sk-parallel-item::before {content: \"\";position: absolute;border-left: 1px solid gray;box-sizing: border-box;top: 0;bottom: 0;left: 50%;z-index: -1;}#sk-container-id-4 div.sk-parallel-item {display: flex;flex-direction: column;z-index: 1;position: relative;background-color: white;}#sk-container-id-4 div.sk-parallel-item:first-child::after {align-self: flex-end;width: 50%;}#sk-container-id-4 div.sk-parallel-item:last-child::after {align-self: flex-start;width: 50%;}#sk-container-id-4 div.sk-parallel-item:only-child::after {width: 0;}#sk-container-id-4 div.sk-dashed-wrapped {border: 1px dashed gray;margin: 0 0.4em 0.5em 0.4em;box-sizing: border-box;padding-bottom: 0.4em;background-color: white;}#sk-container-id-4 div.sk-label label {font-family: monospace;font-weight: bold;display: inline-block;line-height: 1.2em;}#sk-container-id-4 div.sk-label-container {text-align: center;}#sk-container-id-4 div.sk-container {/* jupyter's `normalize.less` sets `[hidden] { display: none; }` but bootstrap.min.css set `[hidden] { display: none !important; }` so we also need the `!important` here to be able to override the default hidden behavior on the sphinx rendered scikit-learn.org. See: https://github.com/scikit-learn/scikit-learn/issues/21755 */display: inline-block !important;position: relative;}#sk-container-id-4 div.sk-text-repr-fallback {display: none;}</style><div id=\"sk-container-id-4\" class=\"sk-top-container\"><div class=\"sk-text-repr-fallback\"><pre>RandomForestClassifier(n_estimators=500, random_state=42)</pre><b>In a Jupyter environment, please rerun this cell to show the HTML representation or trust the notebook. <br />On GitHub, the HTML representation is unable to render, please try loading this page with nbviewer.org.</b></div><div class=\"sk-container\" hidden><div class=\"sk-item\"><div class=\"sk-estimator sk-toggleable\"><input class=\"sk-toggleable__control sk-hidden--visually\" id=\"sk-estimator-id-8\" type=\"checkbox\" checked><label for=\"sk-estimator-id-8\" class=\"sk-toggleable__label sk-toggleable__label-arrow\">RandomForestClassifier</label><div class=\"sk-toggleable__content\"><pre>RandomForestClassifier(n_estimators=500, random_state=42)</pre></div></div></div></div></div>"
      ],
      "text/plain": [
       "RandomForestClassifier(n_estimators=500, random_state=42)"
      ]
     },
     "execution_count": 63,
     "metadata": {},
     "output_type": "execute_result"
    }
   ],
   "source": [
    "rf.fit(x_train, y_train)"
   ]
  },
  {
   "cell_type": "code",
   "execution_count": 64,
   "id": "f7fcd312",
   "metadata": {
    "execution": {
     "iopub.execute_input": "2024-11-30T12:44:07.930366Z",
     "iopub.status.busy": "2024-11-30T12:44:07.930021Z",
     "iopub.status.idle": "2024-11-30T12:44:08.777769Z",
     "shell.execute_reply": "2024-11-30T12:44:08.776408Z"
    },
    "papermill": {
     "duration": 0.875403,
     "end_time": "2024-11-30T12:44:08.780353",
     "exception": false,
     "start_time": "2024-11-30T12:44:07.904950",
     "status": "completed"
    },
    "tags": []
   },
   "outputs": [],
   "source": [
    "y_pred = rf.predict(x_test)"
   ]
  },
  {
   "cell_type": "code",
   "execution_count": null,
   "id": "70298017",
   "metadata": {
    "papermill": {
     "duration": 0.022383,
     "end_time": "2024-11-30T12:44:08.825599",
     "exception": false,
     "start_time": "2024-11-30T12:44:08.803216",
     "status": "completed"
    },
    "tags": []
   },
   "outputs": [],
   "source": []
  },
  {
   "cell_type": "code",
   "execution_count": 65,
   "id": "d086e2ef",
   "metadata": {
    "execution": {
     "iopub.execute_input": "2024-11-30T12:44:08.873130Z",
     "iopub.status.busy": "2024-11-30T12:44:08.872600Z",
     "iopub.status.idle": "2024-11-30T12:44:09.037214Z",
     "shell.execute_reply": "2024-11-30T12:44:09.036016Z"
    },
    "papermill": {
     "duration": 0.191445,
     "end_time": "2024-11-30T12:44:09.039955",
     "exception": false,
     "start_time": "2024-11-30T12:44:08.848510",
     "status": "completed"
    },
    "tags": []
   },
   "outputs": [
    {
     "name": "stdout",
     "output_type": "stream",
     "text": [
      "0.8629351013642739\n",
      "0.5749086479902558\n",
      "0.39398998330550916\n"
     ]
    }
   ],
   "source": [
    "print(accuracy_score(y_test,y_pred))\n",
    "print(precision_score(y_test,y_pred,pos_label='yes'))\n",
    "print(recall_score(y_test,y_pred,pos_label='yes'))"
   ]
  },
  {
   "cell_type": "code",
   "execution_count": 66,
   "id": "d775c77b",
   "metadata": {
    "execution": {
     "iopub.execute_input": "2024-11-30T12:44:09.087421Z",
     "iopub.status.busy": "2024-11-30T12:44:09.087017Z",
     "iopub.status.idle": "2024-11-30T12:44:09.131327Z",
     "shell.execute_reply": "2024-11-30T12:44:09.130272Z"
    },
    "papermill": {
     "duration": 0.070974,
     "end_time": "2024-11-30T12:44:09.133649",
     "exception": false,
     "start_time": "2024-11-30T12:44:09.062675",
     "status": "completed"
    },
    "tags": []
   },
   "outputs": [
    {
     "data": {
      "text/plain": [
       "array([[6296,  349],\n",
       "       [ 726,  472]])"
      ]
     },
     "execution_count": 66,
     "metadata": {},
     "output_type": "execute_result"
    }
   ],
   "source": [
    "confusion_matrix(y_test,y_pred)"
   ]
  },
  {
   "cell_type": "code",
   "execution_count": 67,
   "id": "246266e2",
   "metadata": {
    "execution": {
     "iopub.execute_input": "2024-11-30T12:44:09.182425Z",
     "iopub.status.busy": "2024-11-30T12:44:09.182021Z",
     "iopub.status.idle": "2024-11-30T12:44:09.454369Z",
     "shell.execute_reply": "2024-11-30T12:44:09.453237Z"
    },
    "papermill": {
     "duration": 0.300186,
     "end_time": "2024-11-30T12:44:09.456904",
     "exception": false,
     "start_time": "2024-11-30T12:44:09.156718",
     "status": "completed"
    },
    "tags": []
   },
   "outputs": [
    {
     "data": {
      "text/plain": [
       "<sklearn.metrics._plot.confusion_matrix.ConfusionMatrixDisplay at 0x7b6f10525a20>"
      ]
     },
     "execution_count": 67,
     "metadata": {},
     "output_type": "execute_result"
    },
    {
     "data": {
      "image/png": "[encoded data removed]",
      "text/plain": [
       "<Figure size 640x480 with 2 Axes>"
      ]
     },
     "metadata": {},
     "output_type": "display_data"
    }
   ],
   "source": [
    "ConfusionMatrixDisplay.from_predictions(y_test,y_pred)"
   ]
  },
  {
   "cell_type": "code",
   "execution_count": 68,
   "id": "86a15a7a",
   "metadata": {
    "execution": {
     "iopub.execute_input": "2024-11-30T12:44:09.506443Z",
     "iopub.status.busy": "2024-11-30T12:44:09.505756Z",
     "iopub.status.idle": "2024-11-30T12:44:10.605158Z",
     "shell.execute_reply": "2024-11-30T12:44:10.603846Z"
    },
    "papermill": {
     "duration": 1.126994,
     "end_time": "2024-11-30T12:44:10.607724",
     "exception": false,
     "start_time": "2024-11-30T12:44:09.480730",
     "status": "completed"
    },
    "tags": []
   },
   "outputs": [],
   "source": [
    "predict_for_test_dataset=rf.predict(test)"
   ]
  },
  {
   "cell_type": "code",
   "execution_count": 69,
   "id": "1c89dc02",
   "metadata": {
    "execution": {
     "iopub.execute_input": "2024-11-30T12:44:10.660268Z",
     "iopub.status.busy": "2024-11-30T12:44:10.659900Z",
     "iopub.status.idle": "2024-11-30T12:44:10.666987Z",
     "shell.execute_reply": "2024-11-30T12:44:10.665976Z"
    },
    "papermill": {
     "duration": 0.037023,
     "end_time": "2024-11-30T12:44:10.669757",
     "exception": false,
     "start_time": "2024-11-30T12:44:10.632734",
     "status": "completed"
    },
    "tags": []
   },
   "outputs": [
    {
     "data": {
      "text/plain": [
       "array(['no', 'no', 'no', ..., 'no', 'no', 'no'], dtype=object)"
      ]
     },
     "execution_count": 69,
     "metadata": {},
     "output_type": "execute_result"
    }
   ],
   "source": [
    "predict_for_test_dataset"
   ]
  },
  {
   "cell_type": "code",
   "execution_count": 70,
   "id": "24347618",
   "metadata": {
    "execution": {
     "iopub.execute_input": "2024-11-30T12:44:10.720591Z",
     "iopub.status.busy": "2024-11-30T12:44:10.720167Z",
     "iopub.status.idle": "2024-11-30T12:44:10.725992Z",
     "shell.execute_reply": "2024-11-30T12:44:10.724836Z"
    },
    "papermill": {
     "duration": 0.034014,
     "end_time": "2024-11-30T12:44:10.728194",
     "exception": false,
     "start_time": "2024-11-30T12:44:10.694180",
     "status": "completed"
    },
    "tags": []
   },
   "outputs": [],
   "source": [
    "predict_df = pd.DataFrame(predict_for_test_dataset,columns=['target'])"
   ]
  },
  {
   "cell_type": "code",
   "execution_count": 71,
   "id": "b47b62b6",
   "metadata": {
    "execution": {
     "iopub.execute_input": "2024-11-30T12:44:10.778412Z",
     "iopub.status.busy": "2024-11-30T12:44:10.778035Z",
     "iopub.status.idle": "2024-11-30T12:44:10.787147Z",
     "shell.execute_reply": "2024-11-30T12:44:10.785939Z"
    },
    "papermill": {
     "duration": 0.036615,
     "end_time": "2024-11-30T12:44:10.789428",
     "exception": false,
     "start_time": "2024-11-30T12:44:10.752813",
     "status": "completed"
    },
    "tags": []
   },
   "outputs": [
    {
     "data": {
      "text/plain": [
       "target\n",
       "no     8981\n",
       "yes    1019\n",
       "Name: count, dtype: int64"
      ]
     },
     "execution_count": 71,
     "metadata": {},
     "output_type": "execute_result"
    }
   ],
   "source": [
    "predict_df['target'].value_counts()"
   ]
  },
  {
   "cell_type": "code",
   "execution_count": 72,
   "id": "747985f5",
   "metadata": {
    "execution": {
     "iopub.execute_input": "2024-11-30T12:44:10.838852Z",
     "iopub.status.busy": "2024-11-30T12:44:10.838410Z",
     "iopub.status.idle": "2024-11-30T12:44:10.854517Z",
     "shell.execute_reply": "2024-11-30T12:44:10.853305Z"
    },
    "papermill": {
     "duration": 0.044047,
     "end_time": "2024-11-30T12:44:10.857311",
     "exception": false,
     "start_time": "2024-11-30T12:44:10.813264",
     "status": "completed"
    },
    "tags": []
   },
   "outputs": [],
   "source": [
    "predict_df.to_csv(\"Predictions.csv\",index=True,index_label='id')"
   ]
  },
  {
   "cell_type": "code",
   "execution_count": 73,
   "id": "25333a89",
   "metadata": {
    "execution": {
     "iopub.execute_input": "2024-11-30T12:44:10.908555Z",
     "iopub.status.busy": "2024-11-30T12:44:10.908128Z",
     "iopub.status.idle": "2024-11-30T12:44:11.117829Z",
     "shell.execute_reply": "2024-11-30T12:44:11.116449Z"
    },
    "papermill": {
     "duration": 0.238527,
     "end_time": "2024-11-30T12:44:11.120598",
     "exception": false,
     "start_time": "2024-11-30T12:44:10.882071",
     "status": "completed"
    },
    "tags": []
   },
   "outputs": [],
   "source": [
    "import xgboost as xgb"
   ]
  },
  {
   "cell_type": "code",
   "execution_count": 74,
   "id": "4bdf45d4",
   "metadata": {
    "execution": {
     "iopub.execute_input": "2024-11-30T12:44:11.171364Z",
     "iopub.status.busy": "2024-11-30T12:44:11.170990Z",
     "iopub.status.idle": "2024-11-30T12:44:11.176341Z",
     "shell.execute_reply": "2024-11-30T12:44:11.175208Z"
    },
    "papermill": {
     "duration": 0.034375,
     "end_time": "2024-11-30T12:44:11.178786",
     "exception": false,
     "start_time": "2024-11-30T12:44:11.144411",
     "status": "completed"
    },
    "tags": []
   },
   "outputs": [],
   "source": [
    "xgb_model = xgb.XGBClassifier(n_estimators=600, random_state=42, use_label_encoder=False) \n",
    "# use_label_encoder=False: Avoids warnings regarding label encoding."
   ]
  },
  {
   "cell_type": "code",
   "execution_count": 75,
   "id": "1f993332",
   "metadata": {
    "execution": {
     "iopub.execute_input": "2024-11-30T12:44:11.229399Z",
     "iopub.status.busy": "2024-11-30T12:44:11.229029Z",
     "iopub.status.idle": "2024-11-30T12:44:12.370238Z",
     "shell.execute_reply": "2024-11-30T12:44:12.369047Z"
    },
    "papermill": {
     "duration": 1.16987,
     "end_time": "2024-11-30T12:44:12.372913",
     "exception": false,
     "start_time": "2024-11-30T12:44:11.203043",
     "status": "completed"
    },
    "tags": []
   },
   "outputs": [],
   "source": [
    "y_train_for_xgboost = y_train.copy()\n",
    "for i in range (y_train_for_xgboost.shape[0]):\n",
    "    if y_train_for_xgboost.iloc[i] == 'yes':\n",
    "        y_train_for_xgboost.iloc[i]=1\n",
    "    else:\n",
    "        y_train_for_xgboost.iloc[i]=0"
   ]
  },
  {
   "cell_type": "code",
   "execution_count": 76,
   "id": "c51a9619",
   "metadata": {
    "execution": {
     "iopub.execute_input": "2024-11-30T12:44:12.422746Z",
     "iopub.status.busy": "2024-11-30T12:44:12.422324Z",
     "iopub.status.idle": "2024-11-30T12:44:12.723717Z",
     "shell.execute_reply": "2024-11-30T12:44:12.722569Z"
    },
    "papermill": {
     "duration": 0.329054,
     "end_time": "2024-11-30T12:44:12.726218",
     "exception": false,
     "start_time": "2024-11-30T12:44:12.397164",
     "status": "completed"
    },
    "tags": []
   },
   "outputs": [],
   "source": [
    "y_test_for_xgboost = y_test.copy()\n",
    "for i in range (y_test_for_xgboost.shape[0]):\n",
    "    if y_test_for_xgboost.iloc[i] == 'yes':\n",
    "        y_test_for_xgboost.iloc[i]=1\n",
    "    else:\n",
    "        y_test_for_xgboost.iloc[i]=0"
   ]
  },
  {
   "cell_type": "code",
   "execution_count": 77,
   "id": "1c6f16ab",
   "metadata": {
    "execution": {
     "iopub.execute_input": "2024-11-30T12:44:12.775402Z",
     "iopub.status.busy": "2024-11-30T12:44:12.774979Z",
     "iopub.status.idle": "2024-11-30T12:44:12.784166Z",
     "shell.execute_reply": "2024-11-30T12:44:12.783051Z"
    },
    "papermill": {
     "duration": 0.036485,
     "end_time": "2024-11-30T12:44:12.786432",
     "exception": false,
     "start_time": "2024-11-30T12:44:12.749947",
     "status": "completed"
    },
    "tags": []
   },
   "outputs": [
    {
     "data": {
      "text/plain": [
       "13800    0\n",
       "32874    0\n",
       "9072     0\n",
       "26803    0\n",
       "35504    0\n",
       "        ..\n",
       "6265     0\n",
       "11284    0\n",
       "38158    0\n",
       "860      0\n",
       "15795    0\n",
       "Name: target, Length: 31368, dtype: object"
      ]
     },
     "execution_count": 77,
     "metadata": {},
     "output_type": "execute_result"
    }
   ],
   "source": [
    "y_train_for_xgboost"
   ]
  },
  {
   "cell_type": "code",
   "execution_count": 78,
   "id": "65bfd8e5",
   "metadata": {
    "execution": {
     "iopub.execute_input": "2024-11-30T12:44:12.837578Z",
     "iopub.status.busy": "2024-11-30T12:44:12.837114Z",
     "iopub.status.idle": "2024-11-30T12:44:14.664834Z",
     "shell.execute_reply": "2024-11-30T12:44:14.663537Z"
    },
    "papermill": {
     "duration": 1.856393,
     "end_time": "2024-11-30T12:44:14.667292",
     "exception": false,
     "start_time": "2024-11-30T12:44:12.810899",
     "status": "completed"
    },
    "tags": []
   },
   "outputs": [
    {
     "data": {
      "text/html": [
       "<style>#sk-container-id-5 {color: black;background-color: white;}#sk-container-id-5 pre{padding: 0;}#sk-container-id-5 div.sk-toggleable {background-color: white;}#sk-container-id-5 label.sk-toggleable__label {cursor: pointer;display: block;width: 100%;margin-bottom: 0;padding: 0.3em;box-sizing: border-box;text-align: center;}#sk-container-id-5 label.sk-toggleable__label-arrow:before {content: \"▸\";float: left;margin-right: 0.25em;color: #696969;}#sk-container-id-5 label.sk-toggleable__label-arrow:hover:before {color: black;}#sk-container-id-5 div.sk-estimator:hover label.sk-toggleable__label-arrow:before {color: black;}#sk-container-id-5 div.sk-toggleable__content {max-height: 0;max-width: 0;overflow: hidden;text-align: left;background-color: #f0f8ff;}#sk-container-id-5 div.sk-toggleable__content pre {margin: 0.2em;color: black;border-radius: 0.25em;background-color: #f0f8ff;}#sk-container-id-5 input.sk-toggleable__control:checked~div.sk-toggleable__content {max-height: 200px;max-width: 100%;overflow: auto;}#sk-container-id-5 input.sk-toggleable__control:checked~label.sk-toggleable__label-arrow:before {content: \"▾\";}#sk-container-id-5 div.sk-estimator input.sk-toggleable__control:checked~label.sk-toggleable__label {background-color: #d4ebff;}#sk-container-id-5 div.sk-label input.sk-toggleable__control:checked~label.sk-toggleable__label {background-color: #d4ebff;}#sk-container-id-5 input.sk-hidden--visually {border: 0;clip: rect(1px 1px 1px 1px);clip: rect(1px, 1px, 1px, 1px);height: 1px;margin: -1px;overflow: hidden;padding: 0;position: absolute;width: 1px;}#sk-container-id-5 div.sk-estimator {font-family: monospace;background-color: #f0f8ff;border: 1px dotted black;border-radius: 0.25em;box-sizing: border-box;margin-bottom: 0.5em;}#sk-container-id-5 div.sk-estimator:hover {background-color: #d4ebff;}#sk-container-id-5 div.sk-parallel-item::after {content: \"\";width: 100%;border-bottom: 1px solid gray;flex-grow: 1;}#sk-container-id-5 div.sk-label:hover label.sk-toggleable__label {background-color: #d4ebff;}#sk-container-id-5 div.sk-serial::before {content: \"\";position: absolute;border-left: 1px solid gray;box-sizing: border-box;top: 0;bottom: 0;left: 50%;z-index: 0;}#sk-container-id-5 div.sk-serial {display: flex;flex-direction: column;align-items: center;background-color: white;padding-right: 0.2em;padding-left: 0.2em;position: relative;}#sk-container-id-5 div.sk-item {position: relative;z-index: 1;}#sk-container-id-5 div.sk-parallel {display: flex;align-items: stretch;justify-content: center;background-color: white;position: relative;}#sk-container-id-5 div.sk-item::before, #sk-container-id-5 div.sk-parallel-item::before {content: \"\";position: absolute;border-left: 1px solid gray;box-sizing: border-box;top: 0;bottom: 0;left: 50%;z-index: -1;}#sk-container-id-5 div.sk-parallel-item {display: flex;flex-direction: column;z-index: 1;position: relative;background-color: white;}#sk-container-id-5 div.sk-parallel-item:first-child::after {align-self: flex-end;width: 50%;}#sk-container-id-5 div.sk-parallel-item:last-child::after {align-self: flex-start;width: 50%;}#sk-container-id-5 div.sk-parallel-item:only-child::after {width: 0;}#sk-container-id-5 div.sk-dashed-wrapped {border: 1px dashed gray;margin: 0 0.4em 0.5em 0.4em;box-sizing: border-box;padding-bottom: 0.4em;background-color: white;}#sk-container-id-5 div.sk-label label {font-family: monospace;font-weight: bold;display: inline-block;line-height: 1.2em;}#sk-container-id-5 div.sk-label-container {text-align: center;}#sk-container-id-5 div.sk-container {/* jupyter's `normalize.less` sets `[hidden] { display: none; }` but bootstrap.min.css set `[hidden] { display: none !important; }` so we also need the `!important` here to be able to override the default hidden behavior on the sphinx rendered scikit-learn.org. See: https://github.com/scikit-learn/scikit-learn/issues/21755 */display: inline-block !important;position: relative;}#sk-container-id-5 div.sk-text-repr-fallback {display: none;}</style><div id=\"sk-container-id-5\" class=\"sk-top-container\"><div class=\"sk-text-repr-fallback\"><pre>XGBClassifier(base_score=None, booster=None, callbacks=None,\n",
       "              colsample_bylevel=None, colsample_bynode=None,\n",
       "              colsample_bytree=None, device=None, early_stopping_rounds=None,\n",
       "              enable_categorical=False, eval_metric=None, feature_types=None,\n",
       "              gamma=None, grow_policy=None, importance_type=None,\n",
       "              interaction_constraints=None, learning_rate=None, max_bin=None,\n",
       "              max_cat_threshold=None, max_cat_to_onehot=None,\n",
       "              max_delta_step=None, max_depth=None, max_leaves=None,\n",
       "              min_child_weight=None, missing=nan, monotone_constraints=None,\n",
       "              multi_strategy=None, n_estimators=600, n_jobs=None,\n",
       "              num_parallel_tree=None, random_state=42, ...)</pre><b>In a Jupyter environment, please rerun this cell to show the HTML representation or trust the notebook. <br />On GitHub, the HTML representation is unable to render, please try loading this page with nbviewer.org.</b></div><div class=\"sk-container\" hidden><div class=\"sk-item\"><div class=\"sk-estimator sk-toggleable\"><input class=\"sk-toggleable__control sk-hidden--visually\" id=\"sk-estimator-id-9\" type=\"checkbox\" checked><label for=\"sk-estimator-id-9\" class=\"sk-toggleable__label sk-toggleable__label-arrow\">XGBClassifier</label><div class=\"sk-toggleable__content\"><pre>XGBClassifier(base_score=None, booster=None, callbacks=None,\n",
       "              colsample_bylevel=None, colsample_bynode=None,\n",
       "              colsample_bytree=None, device=None, early_stopping_rounds=None,\n",
       "              enable_categorical=False, eval_metric=None, feature_types=None,\n",
       "              gamma=None, grow_policy=None, importance_type=None,\n",
       "              interaction_constraints=None, learning_rate=None, max_bin=None,\n",
       "              max_cat_threshold=None, max_cat_to_onehot=None,\n",
       "              max_delta_step=None, max_depth=None, max_leaves=None,\n",
       "              min_child_weight=None, missing=nan, monotone_constraints=None,\n",
       "              multi_strategy=None, n_estimators=600, n_jobs=None,\n",
       "              num_parallel_tree=None, random_state=42, ...)</pre></div></div></div></div></div>"
      ],
      "text/plain": [
       "XGBClassifier(base_score=None, booster=None, callbacks=None,\n",
       "              colsample_bylevel=None, colsample_bynode=None,\n",
       "              colsample_bytree=None, device=None, early_stopping_rounds=None,\n",
       "              enable_categorical=False, eval_metric=None, feature_types=None,\n",
       "              gamma=None, grow_policy=None, importance_type=None,\n",
       "              interaction_constraints=None, learning_rate=None, max_bin=None,\n",
       "              max_cat_threshold=None, max_cat_to_onehot=None,\n",
       "              max_delta_step=None, max_depth=None, max_leaves=None,\n",
       "              min_child_weight=None, missing=nan, monotone_constraints=None,\n",
       "              multi_strategy=None, n_estimators=600, n_jobs=None,\n",
       "              num_parallel_tree=None, random_state=42, ...)"
      ]
     },
     "execution_count": 78,
     "metadata": {},
     "output_type": "execute_result"
    }
   ],
   "source": [
    "xgb_model.fit(x_train, y_train_for_xgboost)"
   ]
  },
  {
   "cell_type": "code",
   "execution_count": 79,
   "id": "a2cb2b04",
   "metadata": {
    "execution": {
     "iopub.execute_input": "2024-11-30T12:44:14.717576Z",
     "iopub.status.busy": "2024-11-30T12:44:14.717188Z",
     "iopub.status.idle": "2024-11-30T12:44:14.776073Z",
     "shell.execute_reply": "2024-11-30T12:44:14.775206Z"
    },
    "papermill": {
     "duration": 0.087538,
     "end_time": "2024-11-30T12:44:14.778867",
     "exception": false,
     "start_time": "2024-11-30T12:44:14.691329",
     "status": "completed"
    },
    "tags": []
   },
   "outputs": [],
   "source": [
    "predcit_xgb = xgb_model.predict(x_test)"
   ]
  },
  {
   "cell_type": "code",
   "execution_count": 80,
   "id": "5ffbd321",
   "metadata": {
    "execution": {
     "iopub.execute_input": "2024-11-30T12:44:14.829011Z",
     "iopub.status.busy": "2024-11-30T12:44:14.828596Z",
     "iopub.status.idle": "2024-11-30T12:44:14.834294Z",
     "shell.execute_reply": "2024-11-30T12:44:14.832992Z"
    },
    "papermill": {
     "duration": 0.033727,
     "end_time": "2024-11-30T12:44:14.836853",
     "exception": false,
     "start_time": "2024-11-30T12:44:14.803126",
     "status": "completed"
    },
    "tags": []
   },
   "outputs": [],
   "source": [
    "predcit_xgb = pd.Series(predcit_xgb)"
   ]
  },
  {
   "cell_type": "code",
   "execution_count": 81,
   "id": "4f098b0e",
   "metadata": {
    "execution": {
     "iopub.execute_input": "2024-11-30T12:44:14.887335Z",
     "iopub.status.busy": "2024-11-30T12:44:14.886933Z",
     "iopub.status.idle": "2024-11-30T12:44:14.891940Z",
     "shell.execute_reply": "2024-11-30T12:44:14.890544Z"
    },
    "papermill": {
     "duration": 0.032765,
     "end_time": "2024-11-30T12:44:14.894292",
     "exception": false,
     "start_time": "2024-11-30T12:44:14.861527",
     "status": "completed"
    },
    "tags": []
   },
   "outputs": [],
   "source": [
    "# for i in range (len(predcit_xgb)):\n",
    "#     if predcit_xgb[i] == 1:\n",
    "#         predcit_xgb[i]='yes'\n",
    "#     elif predcit_xgb[i] == 0:\n",
    "#         predcit_xgb[i]='no'"
   ]
  },
  {
   "cell_type": "code",
   "execution_count": 82,
   "id": "d25e0512",
   "metadata": {
    "execution": {
     "iopub.execute_input": "2024-11-30T12:44:14.945400Z",
     "iopub.status.busy": "2024-11-30T12:44:14.945003Z",
     "iopub.status.idle": "2024-11-30T12:44:15.237218Z",
     "shell.execute_reply": "2024-11-30T12:44:15.236000Z"
    },
    "papermill": {
     "duration": 0.321206,
     "end_time": "2024-11-30T12:44:15.239800",
     "exception": false,
     "start_time": "2024-11-30T12:44:14.918594",
     "status": "completed"
    },
    "tags": []
   },
   "outputs": [
    {
     "name": "stderr",
     "output_type": "stream",
     "text": [
      "/tmp/ipykernel_17/3896072349.py:5: FutureWarning: Setting an item of incompatible dtype is deprecated and will raise an error in a future version of pandas. Value 'no' has dtype incompatible with int64, please explicitly cast to a compatible dtype first.\n",
      "  predcit_xgb.iloc[i]='no'\n"
     ]
    }
   ],
   "source": [
    "for i in range (predcit_xgb.shape[0]):\n",
    "    if predcit_xgb.iloc[i] == 1:\n",
    "        predcit_xgb.iloc[i]='yes'\n",
    "    else:\n",
    "        predcit_xgb.iloc[i]='no'"
   ]
  },
  {
   "cell_type": "code",
   "execution_count": 83,
   "id": "44c3c8ec",
   "metadata": {
    "execution": {
     "iopub.execute_input": "2024-11-30T12:44:15.290319Z",
     "iopub.status.busy": "2024-11-30T12:44:15.289880Z",
     "iopub.status.idle": "2024-11-30T12:44:15.457963Z",
     "shell.execute_reply": "2024-11-30T12:44:15.456835Z"
    },
    "papermill": {
     "duration": 0.196221,
     "end_time": "2024-11-30T12:44:15.460411",
     "exception": false,
     "start_time": "2024-11-30T12:44:15.264190",
     "status": "completed"
    },
    "tags": []
   },
   "outputs": [
    {
     "name": "stdout",
     "output_type": "stream",
     "text": [
      "0.860512558969782\n",
      "0.552\n",
      "0.4607679465776294\n"
     ]
    }
   ],
   "source": [
    "print(accuracy_score(y_test,predcit_xgb))\n",
    "print(precision_score(y_test,predcit_xgb,pos_label='yes'))\n",
    "print(recall_score(y_test,predcit_xgb,pos_label='yes'))"
   ]
  },
  {
   "cell_type": "code",
   "execution_count": 84,
   "id": "a1b930f3",
   "metadata": {
    "execution": {
     "iopub.execute_input": "2024-11-30T12:44:15.511706Z",
     "iopub.status.busy": "2024-11-30T12:44:15.510519Z",
     "iopub.status.idle": "2024-11-30T12:44:15.788017Z",
     "shell.execute_reply": "2024-11-30T12:44:15.786879Z"
    },
    "papermill": {
     "duration": 0.305703,
     "end_time": "2024-11-30T12:44:15.790528",
     "exception": false,
     "start_time": "2024-11-30T12:44:15.484825",
     "status": "completed"
    },
    "tags": []
   },
   "outputs": [
    {
     "data": {
      "text/plain": [
       "<sklearn.metrics._plot.confusion_matrix.ConfusionMatrixDisplay at 0x7b6f0ca1bb20>"
      ]
     },
     "execution_count": 84,
     "metadata": {},
     "output_type": "execute_result"
    },
    {
     "data": {
      "image/png": "[encoded data removed]",
      "text/plain": [
       "<Figure size 640x480 with 2 Axes>"
      ]
     },
     "metadata": {},
     "output_type": "display_data"
    }
   ],
   "source": [
    "ConfusionMatrixDisplay.from_predictions(y_test,predcit_xgb)"
   ]
  },
  {
   "cell_type": "code",
   "execution_count": 85,
   "id": "b5feb1e0",
   "metadata": {
    "execution": {
     "iopub.execute_input": "2024-11-30T12:44:15.842053Z",
     "iopub.status.busy": "2024-11-30T12:44:15.841621Z",
     "iopub.status.idle": "2024-11-30T12:44:15.909756Z",
     "shell.execute_reply": "2024-11-30T12:44:15.908923Z"
    },
    "papermill": {
     "duration": 0.097111,
     "end_time": "2024-11-30T12:44:15.912457",
     "exception": false,
     "start_time": "2024-11-30T12:44:15.815346",
     "status": "completed"
    },
    "tags": []
   },
   "outputs": [],
   "source": [
    "predict_for_test_dataset=xgb_model.predict(test)"
   ]
  },
  {
   "cell_type": "code",
   "execution_count": 86,
   "id": "875fd016",
   "metadata": {
    "execution": {
     "iopub.execute_input": "2024-11-30T12:44:15.964249Z",
     "iopub.status.busy": "2024-11-30T12:44:15.963861Z",
     "iopub.status.idle": "2024-11-30T12:44:15.968942Z",
     "shell.execute_reply": "2024-11-30T12:44:15.967907Z"
    },
    "papermill": {
     "duration": 0.034218,
     "end_time": "2024-11-30T12:44:15.971121",
     "exception": false,
     "start_time": "2024-11-30T12:44:15.936903",
     "status": "completed"
    },
    "tags": []
   },
   "outputs": [],
   "source": [
    "predict_for_test_dataset = pd.Series(predict_for_test_dataset)"
   ]
  },
  {
   "cell_type": "code",
   "execution_count": 87,
   "id": "53933c6a",
   "metadata": {
    "execution": {
     "iopub.execute_input": "2024-11-30T12:44:16.025450Z",
     "iopub.status.busy": "2024-11-30T12:44:16.025039Z",
     "iopub.status.idle": "2024-11-30T12:44:16.403692Z",
     "shell.execute_reply": "2024-11-30T12:44:16.402631Z"
    },
    "papermill": {
     "duration": 0.410482,
     "end_time": "2024-11-30T12:44:16.406671",
     "exception": false,
     "start_time": "2024-11-30T12:44:15.996189",
     "status": "completed"
    },
    "tags": []
   },
   "outputs": [
    {
     "name": "stderr",
     "output_type": "stream",
     "text": [
      "/tmp/ipykernel_17/471904018.py:5: FutureWarning: Setting an item of incompatible dtype is deprecated and will raise an error in a future version of pandas. Value 'no' has dtype incompatible with int64, please explicitly cast to a compatible dtype first.\n",
      "  predict_for_test_dataset.iloc[i]='no'\n"
     ]
    }
   ],
   "source": [
    "for i in range (predict_for_test_dataset.shape[0]):\n",
    "    if predict_for_test_dataset.iloc[i] == 1:\n",
    "        predict_for_test_dataset.iloc[i]='yes'\n",
    "    else:\n",
    "        predict_for_test_dataset.iloc[i]='no'"
   ]
  },
  {
   "cell_type": "code",
   "execution_count": 88,
   "id": "8484086e",
   "metadata": {
    "execution": {
     "iopub.execute_input": "2024-11-30T12:44:16.458047Z",
     "iopub.status.busy": "2024-11-30T12:44:16.457578Z",
     "iopub.status.idle": "2024-11-30T12:44:16.463588Z",
     "shell.execute_reply": "2024-11-30T12:44:16.462341Z"
    },
    "papermill": {
     "duration": 0.034841,
     "end_time": "2024-11-30T12:44:16.466275",
     "exception": false,
     "start_time": "2024-11-30T12:44:16.431434",
     "status": "completed"
    },
    "tags": []
   },
   "outputs": [],
   "source": [
    "predict_df = pd.DataFrame(predict_for_test_dataset,columns=['target'])"
   ]
  },
  {
   "cell_type": "code",
   "execution_count": 89,
   "id": "d88505bb",
   "metadata": {
    "execution": {
     "iopub.execute_input": "2024-11-30T12:44:16.519680Z",
     "iopub.status.busy": "2024-11-30T12:44:16.519237Z",
     "iopub.status.idle": "2024-11-30T12:44:16.533552Z",
     "shell.execute_reply": "2024-11-30T12:44:16.532174Z"
    },
    "papermill": {
     "duration": 0.04348,
     "end_time": "2024-11-30T12:44:16.536226",
     "exception": false,
     "start_time": "2024-11-30T12:44:16.492746",
     "status": "completed"
    },
    "tags": []
   },
   "outputs": [],
   "source": [
    "predict_df.to_csv(\"Predictions.csv\",index=True,index_label='id')"
   ]
  },
  {
   "cell_type": "code",
   "execution_count": 90,
   "id": "d148d6ea",
   "metadata": {
    "execution": {
     "iopub.execute_input": "2024-11-30T12:44:16.588581Z",
     "iopub.status.busy": "2024-11-30T12:44:16.588162Z",
     "iopub.status.idle": "2024-11-30T12:44:16.600438Z",
     "shell.execute_reply": "2024-11-30T12:44:16.599451Z"
    },
    "papermill": {
     "duration": 0.041323,
     "end_time": "2024-11-30T12:44:16.602578",
     "exception": false,
     "start_time": "2024-11-30T12:44:16.561255",
     "status": "completed"
    },
    "tags": []
   },
   "outputs": [
    {
     "data": {
      "text/plain": [
       "target\n",
       "no        8777\n",
       "yes       1223\n",
       "Name: count, dtype: int64"
      ]
     },
     "execution_count": 90,
     "metadata": {},
     "output_type": "execute_result"
    }
   ],
   "source": [
    "predict_df.value_counts()"
   ]
  },
  {
   "cell_type": "markdown",
   "id": "07d81518",
   "metadata": {
    "papermill": {
     "duration": 0.025175,
     "end_time": "2024-11-30T12:44:16.652777",
     "exception": false,
     "start_time": "2024-11-30T12:44:16.627602",
     "status": "completed"
    },
    "tags": []
   },
   "source": [
    "finally XGBOOST gives the highest score."
   ]
  },
  {
   "cell_type": "code",
   "execution_count": null,
   "id": "802b1edf",
   "metadata": {
    "papermill": {
     "duration": 0.025263,
     "end_time": "2024-11-30T12:44:16.705681",
     "exception": false,
     "start_time": "2024-11-30T12:44:16.680418",
     "status": "completed"
    },
    "tags": []
   },
   "outputs": [],
   "source": []
  }
 ],
 "metadata": {
  "colab": {
   "provenance": []
  },
  "kaggle": {
   "accelerator": "none",
   "dataSources": [
    {
     "databundleVersionId": 9578279,
     "sourceId": 85062,
     "sourceType": "competition"
    }
   ],
   "dockerImageVersionId": 30786,
   "isGpuEnabled": false,
   "isInternetEnabled": true,
   "language": "python",
   "sourceType": "notebook"
  },
  "kernelspec": {
   "display_name": "Python 3",
   "language": "python",
   "name": "python3"
  },
  "language_info": {
   "codemirror_mode": {
    "name": "ipython",
    "version": 3
   },
   "file_extension": ".py",
   "mimetype": "text/x-python",
   "name": "python",
   "nbconvert_exporter": "python",
   "pygments_lexer": "ipython3",
   "version": "3.10.14"
  },
  "papermill": {
   "default_parameters": {},
   "duration": 575.941034,
   "end_time": "2024-11-30T12:44:17.454325",
   "environment_variables": {},
   "exception": null,
   "input_path": "__notebook__.ipynb",
   "output_path": "__notebook__.ipynb",
   "parameters": {},
   "start_time": "2024-11-30T12:34:41.513291",
   "version": "2.6.0"
  }
 },
 "nbformat": 4,
 "nbformat_minor": 5
}
